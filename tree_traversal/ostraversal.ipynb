{
 "cells": [
  {
   "cell_type": "code",
   "execution_count": 3,
   "metadata": {},
   "outputs": [
    {
     "name": "stdout",
     "output_type": "stream",
     "text": [
      ".\n",
      "./root\n",
      "./root/tools\n",
      "./root/tools/hand_tools\n",
      "./root/tools/power_tools\n",
      "./.ipynb_checkpoints\n",
      "****************************************************************************************************"
     ]
    }
   ],
   "source": [
    "'''\n",
    "Code written in DAT-129 during class session for traversing\n",
    "an arbitrary file tree on a variety of platforms\n",
    "\n",
    "Functionality at the end of class was to visit each\n",
    "directory in a tree, send the list of files within to a method\n",
    "which then examines each file individually, \n",
    "extracts its size, and strips the file extension off\n",
    "with a regular expression.\n",
    "\n",
    "Students were encouraged to contiue this project by building\n",
    "variables to store metrics about the trees, such as \n",
    "maximum depth and breadth, average file size, \n",
    "total tree size, and so forth.\n",
    "\n",
    "'''\n",
    "from zipfile import ZipFile\n",
    "import os\n",
    "import re\n",
    "\n",
    "'''\n",
    "Uncomment these two lines to test out the extraction of a\n",
    "zip archive called darien-tree.zip that must be located\n",
    "in the same directory as this script\n",
    "'''\n",
    "# with ZipFile('darien-tree.zip', 'r') as zipObj:\n",
    "#     zipObj.extractall()\n",
    "\n",
    "# Utility function for exploring features of a list of files\n",
    "# discovered from our os.walk method\n",
    "def interrogateFiles(dirname, fileList):\n",
    "    # Build the regular expression once, \n",
    "    # and store the compiled version for use in the loop\n",
    "    # We save overhead by compiling only once, and not once\n",
    "    # for each file we interrogate\n",
    "    # the (  ) in the regexp create a group\n",
    "    # which we then mark with $ to instruct the engine\n",
    "    # to start looking for a match at the right end of the given string\n",
    "    regexp = re.compile('(\\.\\w+)$')\n",
    "    for f in fileList:\n",
    "        # rebuld the file name from the given directory name\n",
    "        # and the OS-specific file path separator we can get with os.sep\n",
    "        # and the filename we get from our iterator\n",
    "        fn = dirname + str(os.sep) + f\n",
    "        print('file name: ', fn)\n",
    "        print('file size: ', end='')\n",
    "        if os.path.isfile(fn):\n",
    "            print(os.path.getsize(fn),'B')\n",
    "            match = re.search(regexp, fn)\n",
    "            if match:\n",
    "                print('extension: ', match.group(0))"
   ]
  },
  {
   "cell_type": "code",
   "execution_count": 2,
   "metadata": {
    "collapsed": true
   },
   "outputs": [],
   "source": [
    "\n",
    "# traversing directory tree rooted in my current location    \n",
    "for loc, dirs, files in os.walk('.'):\n",
    "    print('visiting location: ', loc)\n",
    "    # pass the current iteration's object pair (ignoring dirs)\n",
    "    # to our method dedicated to looking at a list of files \n",
    "    # in any arbitrary file location\n",
    "    interrogateFiles(loc, files)\n",
    "\n",
    "\n",
    "        "
   ]
  }
 ],
 "metadata": {
  "kernelspec": {
   "display_name": "Python 3",
   "language": "python",
   "name": "python3"
  },
  "language_info": {
   "codemirror_mode": {
    "name": "ipython",
    "version": 3
   },
   "file_extension": ".py",
   "mimetype": "text/x-python",
   "name": "python",
   "nbconvert_exporter": "python",
   "pygments_lexer": "ipython3",
   "version": "3.6.3"
  }
 },
 "nbformat": 4,
 "nbformat_minor": 2
}

{
 "cells": [
  {
   "cell_type": "markdown",
   "metadata": {},
   "source": [
    "# Slice, dice, or peel"
   ]
  },
  {
   "cell_type": "code",
   "execution_count": 2,
   "metadata": {
    "collapsed": true
   },
   "outputs": [],
   "source": [
    "\n"
   ]
  },
  {
   "cell_type": "code",
   "execution_count": 77,
   "metadata": {},
   "outputs": [],
   "source": [
    "def sliceme(strToSlice, length):\n",
    "    return strToSlice[:length]\n",
    "\n",
    "def diceme(strtodice, slicethickness):\n",
    "    diced = []\n",
    "    l = len(strtodice)\n",
    "    c = 0\n",
    "    while c < l:\n",
    "        singleslice = strtodice[c:c+slicethickness]\n",
    "        diced.append(singleslice)\n",
    "        c = c + slicethickness\n",
    "    return diced\n",
    "\n",
    "def peelme(strToPeel):\n",
    "    peeled = []\n",
    "    s = len(strToPeel)\n",
    "    return strToPeel[1:s-1]\n",
    "   "
   ]
  },
  {
   "cell_type": "code",
   "execution_count": 82,
   "metadata": {},
   "outputs": [
    {
     "name": "stdout",
     "output_type": "stream",
     "text": [
      "['carol', 'inema', 'ttr']\n"
     ]
    }
   ],
   "source": [
    "# print(sliceme(\"testing\",2))\n",
    "print(diceme(\"carolinemattr\",5))\n",
    "# print(peelme(\"peeled?\"))"
   ]
  },
  {
   "cell_type": "code",
   "execution_count": null,
   "metadata": {
    "collapsed": true
   },
   "outputs": [],
   "source": [
    "# for i in list(range(0,len(strtodice),slicethickness)):\n",
    "#         print(i)\n",
    "#         singleslice = strtodice[i-slicethickness:i]\n",
    "#         print(singleslice)\n",
    "#         if(len(singleslice) == slicethickness): \n",
    "#             diced.append(singleslice)"
   ]
  }
 ],
 "metadata": {
  "kernelspec": {
   "display_name": "Python 3",
   "language": "python",
   "name": "python3"
  },
  "language_info": {
   "codemirror_mode": {
    "name": "ipython",
    "version": 3
   },
   "file_extension": ".py",
   "mimetype": "text/x-python",
   "name": "python",
   "nbconvert_exporter": "python",
   "pygments_lexer": "ipython3",
   "version": "3.6.3"
  }
 },
 "nbformat": 4,
 "nbformat_minor": 2
}

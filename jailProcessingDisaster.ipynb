{
 "cells": [
  {
   "cell_type": "code",
   "execution_count": 5,
   "metadata": {},
   "outputs": [],
   "source": [
    "newFile = open('myFirstFile_sp19.txt', 'a')\n",
    "for i in range(0,1000):\n",
    "    newFile.write(\"APPEND\")\n",
    "newFile.close()\n"
   ]
  },
  {
   "cell_type": "code",
   "execution_count": 9,
   "metadata": {},
   "outputs": [
    {
     "name": "stdout",
     "output_type": "stream",
     "text": [
      "total 28 year-olds: 109\n",
      "num white inmates: 863\n",
      "num black inmates: 1478\n",
      "percent black inmates: 0.6313541221700129\n"
     ]
    }
   ],
   "source": [
    "import csv\n",
    "file = open('jail.csv', newline='')\n",
    "reader = csv.DictReader(file)\n",
    "numBlack = 0\n",
    "numWhite = 0\n",
    "num28YearsOld = 0\n",
    "targetDate = '2018-01-01'\n",
    "valWhite = 'W'\n",
    "valBlack = 'B'\n",
    "\n",
    "\n",
    "for row in reader:\n",
    "    if row['date'] == targetDate:\n",
    "        if int(row['agecurr']) == 28:\n",
    "            num28YearsOld = num28YearsOld + 1\n",
    "        if row['race'] == valWhite:\n",
    "            numWhite = numWhite + 1\n",
    "        elif row['race'] == valBlack:\n",
    "            numBlack = numBlack + 1\n",
    "file.close()\n",
    "print(\"total 28 year-olds: \" + str(num28YearsOld))\n",
    "print(\"num white inmates: \" + str(numWhite))\n",
    "print(\"num black inmates: \" + str(numBlack))\n",
    "percentBlack = numBlack / (numBlack + numWhite)\n",
    "print(\"percent black inmates: \" + str(percentBlack))"
   ]
  },
  {
   "cell_type": "code",
   "execution_count": null,
   "metadata": {
    "collapsed": true
   },
   "outputs": [],
   "source": []
  }
 ],
 "metadata": {
  "kernelspec": {
   "display_name": "Python 3",
   "language": "python",
   "name": "python3"
  },
  "language_info": {
   "codemirror_mode": {
    "name": "ipython",
    "version": 3
   },
   "file_extension": ".py",
   "mimetype": "text/x-python",
   "name": "python",
   "nbconvert_exporter": "python",
   "pygments_lexer": "ipython3",
   "version": "3.6.3"
  }
 },
 "nbformat": 4,
 "nbformat_minor": 2
}

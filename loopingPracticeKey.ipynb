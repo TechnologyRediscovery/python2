{
 "cells": [
  {
   "cell_type": "code",
   "execution_count": null,
   "metadata": {},
   "outputs": [],
   "source": [
    "#challenge 1\n",
    "for z in range(101):\n",
    "    if z%2 == 0:\n",
    "        print(z, end=' ')\n"
   ]
  },
  {
   "cell_type": "code",
   "execution_count": null,
   "metadata": {
    "scrolled": false
   },
   "outputs": [],
   "source": [
    "#challenge 2\n",
    "k = list('KABOOM')\n",
    "for l in k:\n",
    "    for i in range(3):\n",
    "        print(l, end=' ')"
   ]
  },
  {
   "cell_type": "code",
   "execution_count": null,
   "metadata": {},
   "outputs": [],
   "source": [
    "#challenge 3\n",
    "a = list(\"askaliceithinkshe'llknow\")\n",
    "for c in range(0, len(a),2):\n",
    "    print(a[c], end=\" \")"
   ]
  },
  {
   "cell_type": "code",
   "execution_count": null,
   "metadata": {},
   "outputs": [],
   "source": [
    "print(range(3))\n",
    "r=range(3)\n",
    "for v in r:\n",
    "    print(v)"
   ]
  },
  {
   "cell_type": "raw",
   "metadata": {},
   "source": [
    "for x in range(1, 11):\n",
    "\n",
    "    for y in range(1, 11):\n",
    "        print(r\"%d * %d = %d\" % (x, y, x*y))"
   ]
  },
  {
   "cell_type": "code",
   "execution_count": 11,
   "metadata": {},
   "outputs": [
    {
     "name": "stdout",
     "output_type": "stream",
     "text": [
      "1 | 5 | 5\n",
      "1 | 6 | 6\n",
      "1 | 7 | 7\n",
      "2 | 5 | 10\n",
      "2 | 6 | 12\n",
      "2 | 7 | 14\n",
      "3 | 5 | 15\n",
      "3 | 6 | 18\n",
      "3 | 7 | 21\n",
      "4 | 5 | 20\n",
      "4 | 6 | 24\n",
      "4 | 7 | 28\n"
     ]
    }
   ],
   "source": [
    "# challenge 4\n",
    "for x in range(1,5):\n",
    "    for y in range(5,8):\n",
    "        print(\"%d | %d | %d\" % (x,y,x*y))"
   ]
  },
  {
   "cell_type": "code",
   "execution_count": null,
   "metadata": {
    "collapsed": true
   },
   "outputs": [],
   "source": []
  },
  {
   "cell_type": "code",
   "execution_count": 29,
   "metadata": {},
   "outputs": [
    {
     "name": "stdout",
     "output_type": "stream",
     "text": [
      "US State Abbr: MN\n",
      "US State Abbr: PA\n",
      "US State Abbr: UT\n",
      "Chemical Element: B\n",
      "Chemical Element: P\n",
      "Chemical Element: C\n",
      "Phonetic Call: ECHO\n",
      "Phonetic Call: CHARLIE\n",
      "Phonetic Call: TANGO\n"
     ]
    }
   ],
   "source": [
    "# challenge 5\n",
    "listoflists = [['mn','pa','ut'],['b','p','c'],['echo','charlie','tango']]\n",
    "labels = {\"state\":\"US State Abbr: \", \"element\":\"Chemical Element: \", \"alpha\":\"Phonetic Call: \"}\n",
    "for r in listoflists:\n",
    "    for x in r:\n",
    "        if(len(x)==1):\n",
    "            print('%(element)s' % labels, end='')\n",
    "        if(len(x)==2):\n",
    "            print('%(state)s' % labels, end='')\n",
    "        if(len(x)>=3):\n",
    "            print('%(alpha)s' % labels, end='')\n",
    "        print(x.upper())"
   ]
  }
 ],
 "metadata": {
  "kernelspec": {
   "display_name": "Python 3",
   "language": "python",
   "name": "python3"
  },
  "language_info": {
   "codemirror_mode": {
    "name": "ipython",
    "version": 3
   },
   "file_extension": ".py",
   "mimetype": "text/x-python",
   "name": "python",
   "nbconvert_exporter": "python",
   "pygments_lexer": "ipython3",
   "version": "3.6.3"
  }
 },
 "nbformat": 4,
 "nbformat_minor": 2
}

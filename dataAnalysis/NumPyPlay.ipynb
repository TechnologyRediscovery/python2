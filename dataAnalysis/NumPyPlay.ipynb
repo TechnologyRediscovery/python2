{
 "cells": [
  {
   "cell_type": "code",
   "execution_count": null,
   "metadata": {},
   "outputs": [],
   "source": [
    "import numpy\n",
    "import pandas\n",
    "import csv\n",
    "#matplotlib\n",
    "%pylab \n",
    "\n",
    "from pandas import DataFrame, Series\n",
    "\n",
    "#Creating a basic series, with the index sequential from zero as default\n",
    "obj = Series([4,7,-5,3])\n",
    "print(obj)\n",
    "\n",
    "#Custom index on the series\n",
    "seriesWithIndexLables = Series([4,7,8,-3],['t', 'g', 'k', 'u'])\n",
    "print(seriesWithIndexLables)"
   ]
  },
  {
   "cell_type": "code",
   "execution_count": null,
   "metadata": {},
   "outputs": [],
   "source": [
    "# Essential involved in loading tabular CSV data into Python's pandas native objects\n",
    "\n",
    "with open('usaPowerSources2001-2018.csv') as csvfile:\n",
    "    reader = csv.DictReader(csvfile, delimiter=',')\n",
    "    energy = [row for row in reader]\n",
    "energyFrame = DataFrame(energy)\n",
    "print(energyFrame)\n",
    "        \n"
   ]
  },
  {
   "cell_type": "code",
   "execution_count": null,
   "metadata": {},
   "outputs": [],
   "source": [
    "# with data in our DataFrame, we can start tinkering!\n",
    "#Print only a series\n",
    "print(energyFrame['solar'])\n",
    "data = energyFrame['solar'].mean()\n",
    "print(data)\n",
    "print(energyFrame.describe())"
   ]
  },
  {
   "cell_type": "code",
   "execution_count": 13,
   "metadata": {},
   "outputs": [
    {
     "data": {
      "text/plain": [
       "count       54.000000\n",
       "mean      4591.936335\n",
       "std       2286.697478\n",
       "min       1375.151550\n",
       "25%       2893.022608\n",
       "50%       3994.800210\n",
       "75%       5886.004930\n",
       "max      10880.214600\n",
       "Name: solar, dtype: float64"
      ]
     },
     "execution_count": 13,
     "metadata": {},
     "output_type": "execute_result"
    }
   ],
   "source": [
    "# pandas native imports\n",
    "# automatic typing here\n",
    "energyImport = pandas.read_csv('usaPowerSources2001-2018.csv',index_col='Month')\n",
    "# print(energyImport)\n",
    "energyImport.solar.describe()\n",
    "# energyImport.max()\n",
    "\n",
    "# print(energyImport.corr())\n",
    "# print(energyImport.pct_change())"
   ]
  },
  {
   "cell_type": "code",
   "execution_count": null,
   "metadata": {},
   "outputs": [],
   "source": [
    "# visualization\n",
    "%pylab\n",
    "energyImport.plot()"
   ]
  }
 ],
 "metadata": {
  "kernelspec": {
   "display_name": "Python 3",
   "language": "python",
   "name": "python3"
  },
  "language_info": {
   "codemirror_mode": {
    "name": "ipython",
    "version": 3
   },
   "file_extension": ".py",
   "mimetype": "text/x-python",
   "name": "python",
   "nbconvert_exporter": "python",
   "pygments_lexer": "ipython3",
   "version": "3.6.3"
  }
 },
 "nbformat": 4,
 "nbformat_minor": 2
}

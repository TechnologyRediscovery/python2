{
 "cells": [
  {
   "cell_type": "code",
   "execution_count": null,
   "metadata": {},
   "outputs": [],
   "source": [
    "# Sharable code written for DAT-129 at CCAC Spring 2020\n",
    "# Sample interactions with numpy arrays and pandas, which uses numpy under the hood extensively\n",
    "import numpy as np\n",
    "import pandas as pd\n",
    "\n",
    "viols = pd.read_csv('data/foodinspectionviolations_alghcnty.csv')\n",
    "print(type(viols))\n",
    "print(viols.dtypes)\n",
    "print(viols.columns)\n",
    "print(viols.describe)\n",
    "rating = viols['rating']\n",
    "rating.value_counts()\n",
    "23885"
   ]
  },
  {
   "cell_type": "code",
   "execution_count": null,
   "metadata": {},
   "outputs": [],
   "source": [
    "violtypes = viols['description_new']\n",
    "munis = viols['municipal']\n",
    "print(munis.value_counts())\n",
    "robinmckees = viols.loc[lambda viols: viols['municipal'].isin(['Robinson', 'McKeesport'])]\n",
    "print(robin)\n",
    "\n",
    "# print(np.asarray())\n",
    "# print(violtypes.value_counts())"
   ]
  },
  {
   "cell_type": "code",
   "execution_count": null,
   "metadata": {},
   "outputs": [],
   "source": [
    "subset = viols['end_time']\n"
   ]
  },
  {
   "cell_type": "code",
   "execution_count": null,
   "metadata": {},
   "outputs": [],
   "source": []
  }
 ],
 "metadata": {
  "kernelspec": {
   "display_name": "Python 3",
   "language": "python",
   "name": "python3"
  },
  "language_info": {
   "codemirror_mode": {
    "name": "ipython",
    "version": 3
   },
   "file_extension": ".py",
   "mimetype": "text/x-python",
   "name": "python",
   "nbconvert_exporter": "python",
   "pygments_lexer": "ipython3",
   "version": "3.8.3"
  }
 },
 "nbformat": 4,
 "nbformat_minor": 2
}

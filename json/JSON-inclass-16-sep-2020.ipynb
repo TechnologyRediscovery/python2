{
 "cells": [
  {
   "cell_type": "code",
   "execution_count": null,
   "metadata": {},
   "outputs": [],
   "source": [
    "'''\n",
    "Companion script for DAT-129 at CCAC: Session on JSON\n",
    "Shows the basic usage of the json module and then inject data in JSON format for processing and \n",
    "exportin go transportable information\n",
    "'''\n",
    "import json\n",
    "\n",
    "# read in the contents of a file encoded in JSON and display\n",
    "# in its native python object form\n",
    "with open('pghprojserachcriteria.json') as proj_criteria:\n",
    "    # give the file object to json.load, who will read its\n",
    "    # contents and generate all native python objects \n",
    "    # which we can access through nativeCriteria\n",
    "    native_criteria = json.load(proj_criteria)\n",
    "    # manipulate the underlying python object in normal python\n",
    "    native_criteria['fiscal_year'] = [2019, 2020]\n",
    "    # see the result with a simple print\n",
    "    print(native_criteria)\n",
    "    "
   ]
  },
  {
   "cell_type": "code",
   "execution_count": null,
   "metadata": {},
   "outputs": [],
   "source": [
    "'''\n",
    "Generate objects in python and write them to a file in \n",
    "JSON format using json.dumps\n",
    "\n",
    "Chat processing specs:\n",
    "0) Get file into PYTHON for text processing\n",
    "1) Ingest native text file from Zoom, and at minimum,\n",
    "aggregate each student's responses if issued over multiple \n",
    "chats\n",
    "\n",
    "'''\n",
    "import csv\n",
    "# declare the Zoom-standard name prefix in its encoding of the chat history\n",
    "STUD_NAME_PREFIX = ' From '\n",
    "\n",
    "def build_dict_from_raw_name_content_list(f): \n",
    "    # we'll load this dictionary up as we read the chat CSV from the file\n",
    "    responses = {}\n",
    "    with open(f) as chats:\n",
    "        chat_reader = csv.reader(chats, delimiter='\\t')\n",
    "        for line in chat_reader:\n",
    "#             print(line)\n",
    "            # the second item in the list is the name string (first is timestamp)\n",
    "            name_cont = line[1]\n",
    "            separated_name_cont = name_cont.split(sep=':',maxsplit=1)\n",
    "            name = separated_name_cont[0][6:].rstrip()\n",
    "            # extract second item from our list made from a chat line\n",
    "            content = separated_name_cont[1]\n",
    "            # check the dictionary for the presence of the name\n",
    "            if name in responses:\n",
    "                # if dict contains the key already, extract value, and append\n",
    "                # the entire response string\n",
    "                responses[name].append(content)\n",
    "            else:\n",
    "                # make a new dictionary entry keyed to the stripped student name\n",
    "                responses[name] = [content,]\n",
    "    print(responses)\n",
    "    return responses\n"
   ]
  },
  {
   "cell_type": "code",
   "execution_count": null,
   "metadata": {},
   "outputs": [],
   "source": [
    "def write_chats_to_json(resdict):\n",
    "    # Create a file into which we shall inject JSON\n",
    "    with open('chat.json', 'w') as jsonfile:\n",
    "        # give file and incoming content to json.dump\n",
    "        json.dump(resdict, jsonfile)\n",
    "        print(\"file written\")\n",
    "        \n",
    "        "
   ]
  },
  {
   "cell_type": "code",
   "execution_count": null,
   "metadata": {},
   "outputs": [],
   "source": [
    "# run our dictionary assembly function that gives us a dictionary of\n",
    "# responses given a text file name\n",
    "\n",
    "response_dict = build_dict_from_raw_name_content_list('langs.txt')\n",
    "write_chats_to_json(response_dict)"
   ]
  }
 ],
 "metadata": {
  "kernelspec": {
   "display_name": "Python 3",
   "language": "python",
   "name": "python3"
  },
  "language_info": {
   "codemirror_mode": {
    "name": "ipython",
    "version": 3
   },
   "file_extension": ".py",
   "mimetype": "text/x-python",
   "name": "python",
   "nbconvert_exporter": "python",
   "pygments_lexer": "ipython3",
   "version": "3.8.3"
  }
 },
 "nbformat": 4,
 "nbformat_minor": 4
}

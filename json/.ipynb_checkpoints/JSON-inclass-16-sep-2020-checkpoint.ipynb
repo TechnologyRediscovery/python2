{
 "cells": [
  {
   "cell_type": "code",
   "execution_count": 2,
   "metadata": {},
   "outputs": [
    {
     "name": "stdout",
     "output_type": "stream",
     "text": [
      "{'fiscal_year': [2019, 2020], 'start_date': [''], 'area': ['Facility Improvement'], 'asset_type': ['Park'], 'planning_status': ['Completed', 'Planned']}\n"
     ]
    }
   ],
   "source": [
    "'''\n",
    "Companion script for DAT-129 at CCAC: Session on JSON\n",
    "Shows the basic usage of the json module and then inject data in JSON format for processing and \n",
    "exportin go transportable information\n",
    "'''\n",
    "import json\n",
    "\n",
    "# read in the contents of a file encoded in JSON and display\n",
    "# in its native python object form\n",
    "with open('pghprojserachcriteria.json') as proj_criteria:\n",
    "    # give the file object to json.load, who will read its\n",
    "    # contents and generate all native python objects \n",
    "    # which we can access through nativeCriteria\n",
    "    native_criteria = json.load(proj_criteria)\n",
    "    # manipulate the underlying python object in normal python\n",
    "    native_criteria['fiscal_year'] = [2019, 2020]\n",
    "    # see the result with a simple print\n",
    "    print(native_criteria)\n",
    "    "
   ]
  },
  {
   "cell_type": "code",
   "execution_count": 3,
   "metadata": {},
   "outputs": [
    {
     "ename": "NameError",
     "evalue": "name 'none' is not defined",
     "output_type": "error",
     "traceback": [
      "\u001b[0;31m---------------------------------------------------------------------------\u001b[0m",
      "\u001b[0;31mNameError\u001b[0m                                 Traceback (most recent call last)",
      "\u001b[0;32m<ipython-input-3-7076aa13b766>\u001b[0m in \u001b[0;36m<module>\u001b[0;34m\u001b[0m\n\u001b[1;32m     12\u001b[0m \u001b[0;32mimport\u001b[0m \u001b[0mcsv\u001b[0m\u001b[0;34m\u001b[0m\u001b[0;34m\u001b[0m\u001b[0m\n\u001b[1;32m     13\u001b[0m \u001b[0;32mwith\u001b[0m \u001b[0mopen\u001b[0m\u001b[0;34m(\u001b[0m\u001b[0;34m'langs.txt'\u001b[0m\u001b[0;34m)\u001b[0m \u001b[0;32mas\u001b[0m \u001b[0mchats\u001b[0m\u001b[0;34m:\u001b[0m\u001b[0;34m\u001b[0m\u001b[0;34m\u001b[0m\u001b[0m\n\u001b[0;32m---> 14\u001b[0;31m     \u001b[0mchat_reader\u001b[0m \u001b[0;34m=\u001b[0m \u001b[0mcsv\u001b[0m\u001b[0;34m.\u001b[0m\u001b[0mreader\u001b[0m\u001b[0;34m(\u001b[0m\u001b[0mchats\u001b[0m\u001b[0;34m,\u001b[0m \u001b[0mdelimiter\u001b[0m\u001b[0;34m=\u001b[0m\u001b[0mnone\u001b[0m\u001b[0;34m)\u001b[0m\u001b[0;34m\u001b[0m\u001b[0;34m\u001b[0m\u001b[0m\n\u001b[0m\u001b[1;32m     15\u001b[0m     \u001b[0;32mfor\u001b[0m \u001b[0mline\u001b[0m \u001b[0;32min\u001b[0m \u001b[0mchat_reader\u001b[0m\u001b[0;34m:\u001b[0m\u001b[0;34m\u001b[0m\u001b[0;34m\u001b[0m\u001b[0m\n\u001b[1;32m     16\u001b[0m         \u001b[0mprint\u001b[0m\u001b[0;34m(\u001b[0m\u001b[0mline\u001b[0m\u001b[0;34m)\u001b[0m\u001b[0;34m\u001b[0m\u001b[0;34m\u001b[0m\u001b[0m\n",
      "\u001b[0;31mNameError\u001b[0m: name 'none' is not defined"
     ]
    }
   ],
   "source": [
    "'''\n",
    "Generate objects in python and write them to a file in \n",
    "JSON format using json.dumps\n",
    "\n",
    "Chat processing specs:\n",
    "0) Get file into PYTHON for text processing\n",
    "1) Ingest native text file from Zoom, and at minimum,\n",
    "aggregate each student's responses if issued over multiple \n",
    "chats\n",
    "\n",
    "'''\n",
    "import csv\n",
    "with open('langs.txt') as chats:\n",
    "    chat_reader = csv.reader(chats, delimiter=' ')\n",
    "    for line in chat_reader:\n",
    "        print(line)\n",
    "\n",
    "\n",
    "\n",
    "\n"
   ]
  }
 ],
 "metadata": {
  "kernelspec": {
   "display_name": "Python 3",
   "language": "python",
   "name": "python3"
  },
  "language_info": {
   "codemirror_mode": {
    "name": "ipython",
    "version": 3
   },
   "file_extension": ".py",
   "mimetype": "text/x-python",
   "name": "python",
   "nbconvert_exporter": "python",
   "pygments_lexer": "ipython3",
   "version": "3.8.3"
  }
 },
 "nbformat": 4,
 "nbformat_minor": 4
}

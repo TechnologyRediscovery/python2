{
 "cells": [
  {
   "cell_type": "code",
   "execution_count": 7,
   "metadata": {},
   "outputs": [
    {
     "name": "stdout",
     "output_type": "stream",
     "text": [
      "{\"Jack Goes Boating\": \"Java: Might We Be Friends Project\", \"War Games\": \"Javaoo: Password strength checking: Tip-dont make passwords dictionary words\", \"Dark Waters\": \"Python 2: Processing of Toxic Release Inventory data\", \"Python Holy Grail Clips?\": false, \"Film length\": 4.568, \"film count\": 7, \"Dictionary dictionary\": {\"a\": 1, \"b\": 2, \"c\": 3}, \"Books\": [\"Intro to python by Deitel\", [\"The C++ Programming Language\", \"Intro to programming with C++\"]]}\n"
     ]
    }
   ],
   "source": [
    "# Demonstration of basic functionality in JSON objects\n",
    "\n",
    "import json\n",
    "\n",
    "# Create a data structure in Python which we'll encode/serialize into JSON spec\n",
    "# friendly text\n",
    "\n",
    "course_films = {}\n",
    "course_films['Jack Goes Boating'] = 'Java: Might We Be Friends Project'\n",
    "course_films['War Games'] = 'Javaoo: Password strength checking: Tip-dont make passwords dictionary words'\n",
    "course_films['Dark Waters'] = 'Python 2: Processing of Toxic Release Inventory data'\n",
    "# Demo values that are boolean literals\n",
    "course_films[\"Python Holy Grail Clips?\"] = False\n",
    "# Demo values that are real numbers\n",
    "course_films[\"Film length\"] = 4.568\n",
    "course_films[\"film count\"] = 7\n",
    "course_films[\"Dictionary dictionary\"] = {'a':1,'b':2,'c':3}\n",
    "# Demo JSON encoding of lists containing tuples\n",
    "course_films[\"Books\"] = ['Intro to python by Deitel',(\"The C++ Programming Language\",\"Intro to programming with C++\")]\n",
    "# Pass our native python object to the json.dumps i.e. dump string and see its structure\n",
    "print(json.dumps(course_films))\n",
    "\n",
    "# JSON's most useful when the string makes it into a file for actual data exchange\n",
    "# Create a file with the conventional .json ending, and then use our write method\n",
    "# to ship out the returned JSON-encoded string by json.dumps\n",
    "# See Dietel pages 327-328\n",
    "with open('course_films.json', 'w') as film_file:\n",
    "    film_file.write(json.dumps(course_films))\n"
   ]
  }
 ],
 "metadata": {
  "kernelspec": {
   "display_name": "Python 3",
   "language": "python",
   "name": "python3"
  },
  "language_info": {
   "codemirror_mode": {
    "name": "ipython",
    "version": 3
   },
   "file_extension": ".py",
   "mimetype": "text/x-python",
   "name": "python",
   "nbconvert_exporter": "python",
   "pygments_lexer": "ipython3",
   "version": "3.8.3"
  }
 },
 "nbformat": 4,
 "nbformat_minor": 4
}

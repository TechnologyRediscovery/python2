{
 "cells": [
  {
   "cell_type": "code",
   "execution_count": 1,
   "metadata": {},
   "outputs": [
    {
     "name": "stdout",
     "output_type": "stream",
     "text": [
      "pull\n"
     ]
    }
   ],
   "source": [
    "import json\n",
    "# sample read in and out of JSON to and from text files\n",
    "with open('gitinfo.json') as jsontest:\n",
    "    gitkeywords = json.load(jsontest)\n",
    "#     print(gitkeywords)\n",
    "    print(gitkeywords['Remotes'][1])\n"
   ]
  },
  {
   "cell_type": "code",
   "execution_count": 11,
   "metadata": {},
   "outputs": [],
   "source": [
    "# encode python object as JSON and write to a file\n",
    "projects = {}\n",
    "projects[\"group1\"] = ['Dan', 'Eric1', 'Eric2', 'Eric3']\n",
    "projects['group2'] = ('Zach', 'Taichi', 'Joel')\n",
    "projects['unallocated'] = 452\n",
    "# print(projects)\n",
    "with open('groups.json', 'w') as groupfile:\n",
    "    #arg 1 is the object to serialize, arg2 is the file\n",
    "    json.dump(projects, groupfile)"
   ]
  }
 ],
 "metadata": {
  "kernelspec": {
   "display_name": "Python 3",
   "language": "python",
   "name": "python3"
  },
  "language_info": {
   "codemirror_mode": {
    "name": "ipython",
    "version": 3
   },
   "file_extension": ".py",
   "mimetype": "text/x-python",
   "name": "python",
   "nbconvert_exporter": "python",
   "pygments_lexer": "ipython3",
   "version": "3.8.3"
  }
 },
 "nbformat": 4,
 "nbformat_minor": 2
}

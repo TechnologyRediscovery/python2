{
 "cells": [
  {
   "cell_type": "code",
   "execution_count": 4,
   "metadata": {},
   "outputs": [
    {
     "ename": "JSONDecodeError",
     "evalue": "Expecting value: line 1 column 1 (char 0)",
     "output_type": "error",
     "traceback": [
      "\u001b[0;31m---------------------------------------------------------------------------\u001b[0m",
      "\u001b[0;31mJSONDecodeError\u001b[0m                           Traceback (most recent call last)",
      "\u001b[0;32m<ipython-input-4-30875a4dfeb1>\u001b[0m in \u001b[0;36m<module>\u001b[0;34m\u001b[0m\n\u001b[1;32m      5\u001b[0m     \u001b[0mprint\u001b[0m\u001b[0;34m(\u001b[0m\u001b[0mr\u001b[0m\u001b[0;34m)\u001b[0m\u001b[0;34m\u001b[0m\u001b[0;34m\u001b[0m\u001b[0m\n\u001b[1;32m      6\u001b[0m     \u001b[0mprint\u001b[0m\u001b[0;34m(\u001b[0m\u001b[0mr\u001b[0m\u001b[0;34m.\u001b[0m\u001b[0mheaders\u001b[0m\u001b[0;34m.\u001b[0m\u001b[0mkeys\u001b[0m\u001b[0;34m(\u001b[0m\u001b[0;34m)\u001b[0m\u001b[0;34m)\u001b[0m\u001b[0;34m\u001b[0m\u001b[0;34m\u001b[0m\u001b[0m\n\u001b[0;32m----> 7\u001b[0;31m \u001b[0mapiDict\u001b[0m \u001b[0;34m=\u001b[0m \u001b[0mjson\u001b[0m\u001b[0;34m.\u001b[0m\u001b[0mloads\u001b[0m\u001b[0;34m(\u001b[0m\u001b[0mr\u001b[0m\u001b[0;34m.\u001b[0m\u001b[0mtext\u001b[0m\u001b[0;34m)\u001b[0m\u001b[0;34m\u001b[0m\u001b[0;34m\u001b[0m\u001b[0m\n\u001b[0m\u001b[1;32m      8\u001b[0m \u001b[0mkeySet\u001b[0m \u001b[0;34m=\u001b[0m \u001b[0mapiDict\u001b[0m\u001b[0;34m.\u001b[0m\u001b[0mkeys\u001b[0m\u001b[0;34m(\u001b[0m\u001b[0;34m)\u001b[0m\u001b[0;34m\u001b[0m\u001b[0;34m\u001b[0m\u001b[0m\n\u001b[1;32m      9\u001b[0m \u001b[0;32mfor\u001b[0m \u001b[0mkey\u001b[0m \u001b[0;32min\u001b[0m \u001b[0mkeySet\u001b[0m\u001b[0;34m:\u001b[0m\u001b[0;34m\u001b[0m\u001b[0;34m\u001b[0m\u001b[0m\n",
      "\u001b[0;32m~/anaconda3/lib/python3.8/json/__init__.py\u001b[0m in \u001b[0;36mloads\u001b[0;34m(s, cls, object_hook, parse_float, parse_int, parse_constant, object_pairs_hook, **kw)\u001b[0m\n\u001b[1;32m    355\u001b[0m             \u001b[0mparse_int\u001b[0m \u001b[0;32mis\u001b[0m \u001b[0;32mNone\u001b[0m \u001b[0;32mand\u001b[0m \u001b[0mparse_float\u001b[0m \u001b[0;32mis\u001b[0m \u001b[0;32mNone\u001b[0m \u001b[0;32mand\u001b[0m\u001b[0;34m\u001b[0m\u001b[0;34m\u001b[0m\u001b[0m\n\u001b[1;32m    356\u001b[0m             parse_constant is None and object_pairs_hook is None and not kw):\n\u001b[0;32m--> 357\u001b[0;31m         \u001b[0;32mreturn\u001b[0m \u001b[0m_default_decoder\u001b[0m\u001b[0;34m.\u001b[0m\u001b[0mdecode\u001b[0m\u001b[0;34m(\u001b[0m\u001b[0ms\u001b[0m\u001b[0;34m)\u001b[0m\u001b[0;34m\u001b[0m\u001b[0;34m\u001b[0m\u001b[0m\n\u001b[0m\u001b[1;32m    358\u001b[0m     \u001b[0;32mif\u001b[0m \u001b[0mcls\u001b[0m \u001b[0;32mis\u001b[0m \u001b[0;32mNone\u001b[0m\u001b[0;34m:\u001b[0m\u001b[0;34m\u001b[0m\u001b[0;34m\u001b[0m\u001b[0m\n\u001b[1;32m    359\u001b[0m         \u001b[0mcls\u001b[0m \u001b[0;34m=\u001b[0m \u001b[0mJSONDecoder\u001b[0m\u001b[0;34m\u001b[0m\u001b[0;34m\u001b[0m\u001b[0m\n",
      "\u001b[0;32m~/anaconda3/lib/python3.8/json/decoder.py\u001b[0m in \u001b[0;36mdecode\u001b[0;34m(self, s, _w)\u001b[0m\n\u001b[1;32m    335\u001b[0m \u001b[0;34m\u001b[0m\u001b[0m\n\u001b[1;32m    336\u001b[0m         \"\"\"\n\u001b[0;32m--> 337\u001b[0;31m         \u001b[0mobj\u001b[0m\u001b[0;34m,\u001b[0m \u001b[0mend\u001b[0m \u001b[0;34m=\u001b[0m \u001b[0mself\u001b[0m\u001b[0;34m.\u001b[0m\u001b[0mraw_decode\u001b[0m\u001b[0;34m(\u001b[0m\u001b[0ms\u001b[0m\u001b[0;34m,\u001b[0m \u001b[0midx\u001b[0m\u001b[0;34m=\u001b[0m\u001b[0m_w\u001b[0m\u001b[0;34m(\u001b[0m\u001b[0ms\u001b[0m\u001b[0;34m,\u001b[0m \u001b[0;36m0\u001b[0m\u001b[0;34m)\u001b[0m\u001b[0;34m.\u001b[0m\u001b[0mend\u001b[0m\u001b[0;34m(\u001b[0m\u001b[0;34m)\u001b[0m\u001b[0;34m)\u001b[0m\u001b[0;34m\u001b[0m\u001b[0;34m\u001b[0m\u001b[0m\n\u001b[0m\u001b[1;32m    338\u001b[0m         \u001b[0mend\u001b[0m \u001b[0;34m=\u001b[0m \u001b[0m_w\u001b[0m\u001b[0;34m(\u001b[0m\u001b[0ms\u001b[0m\u001b[0;34m,\u001b[0m \u001b[0mend\u001b[0m\u001b[0;34m)\u001b[0m\u001b[0;34m.\u001b[0m\u001b[0mend\u001b[0m\u001b[0;34m(\u001b[0m\u001b[0;34m)\u001b[0m\u001b[0;34m\u001b[0m\u001b[0;34m\u001b[0m\u001b[0m\n\u001b[1;32m    339\u001b[0m         \u001b[0;32mif\u001b[0m \u001b[0mend\u001b[0m \u001b[0;34m!=\u001b[0m \u001b[0mlen\u001b[0m\u001b[0;34m(\u001b[0m\u001b[0ms\u001b[0m\u001b[0;34m)\u001b[0m\u001b[0;34m:\u001b[0m\u001b[0;34m\u001b[0m\u001b[0;34m\u001b[0m\u001b[0m\n",
      "\u001b[0;32m~/anaconda3/lib/python3.8/json/decoder.py\u001b[0m in \u001b[0;36mraw_decode\u001b[0;34m(self, s, idx)\u001b[0m\n\u001b[1;32m    353\u001b[0m             \u001b[0mobj\u001b[0m\u001b[0;34m,\u001b[0m \u001b[0mend\u001b[0m \u001b[0;34m=\u001b[0m \u001b[0mself\u001b[0m\u001b[0;34m.\u001b[0m\u001b[0mscan_once\u001b[0m\u001b[0;34m(\u001b[0m\u001b[0ms\u001b[0m\u001b[0;34m,\u001b[0m \u001b[0midx\u001b[0m\u001b[0;34m)\u001b[0m\u001b[0;34m\u001b[0m\u001b[0;34m\u001b[0m\u001b[0m\n\u001b[1;32m    354\u001b[0m         \u001b[0;32mexcept\u001b[0m \u001b[0mStopIteration\u001b[0m \u001b[0;32mas\u001b[0m \u001b[0merr\u001b[0m\u001b[0;34m:\u001b[0m\u001b[0;34m\u001b[0m\u001b[0;34m\u001b[0m\u001b[0m\n\u001b[0;32m--> 355\u001b[0;31m             \u001b[0;32mraise\u001b[0m \u001b[0mJSONDecodeError\u001b[0m\u001b[0;34m(\u001b[0m\u001b[0;34m\"Expecting value\"\u001b[0m\u001b[0;34m,\u001b[0m \u001b[0ms\u001b[0m\u001b[0;34m,\u001b[0m \u001b[0merr\u001b[0m\u001b[0;34m.\u001b[0m\u001b[0mvalue\u001b[0m\u001b[0;34m)\u001b[0m \u001b[0;32mfrom\u001b[0m \u001b[0;32mNone\u001b[0m\u001b[0;34m\u001b[0m\u001b[0;34m\u001b[0m\u001b[0m\n\u001b[0m\u001b[1;32m    356\u001b[0m         \u001b[0;32mreturn\u001b[0m \u001b[0mobj\u001b[0m\u001b[0;34m,\u001b[0m \u001b[0mend\u001b[0m\u001b[0;34m\u001b[0m\u001b[0;34m\u001b[0m\u001b[0m\n",
      "\u001b[0;31mJSONDecodeError\u001b[0m: Expecting value: line 1 column 1 (char 0)"
     ]
    }
   ],
   "source": [
    "## Donors choose API example\n",
    "import requests, json \n",
    "r = requests.get('https://api.donorschoose.org/common/json_feed.html?keywords=\"programming\"&APIKey=DONORSCHOOSE&max=50') \n",
    "if(int(r.status_code) == 200):\n",
    "    print(r) \n",
    "    print(r.headers.keys()) \n",
    "apiDict = json.loads(r.text) \n",
    "keySet = apiDict.keys()\n",
    "for key in keySet: \n",
    "    print(key) \n",
    "    print() \n",
    "for i in apiDict['proposals']: \n",
    "    print(i) \n",
    "    print(i['fundingStatus'])"
   ]
  },
  {
   "cell_type": "code",
   "execution_count": 3,
   "metadata": {},
   "outputs": [
    {
     "name": "stdout",
     "output_type": "stream",
     "text": [
      "200\n",
      "4\n",
      "dict_keys(['start', 'num_found', 'numFound', 'docs'])\n",
      "1492\n"
     ]
    }
   ],
   "source": [
    "## OpenLibrary API Example\n",
    "import requests, json\n",
    "r = requests.get('http://openlibrary.org/search.json?q=python')\n",
    "print(r.status_code)\n",
    "# print(r.text)\n",
    "apiDict = json.loads(r.text)\n",
    "print(len(apiDict.keys()))\n",
    "print(apiDict.keys())\n",
    "print(apiDict['num_found'])\n",
    "\n",
    "\n"
   ]
  },
  {
   "cell_type": "code",
   "execution_count": 2,
   "metadata": {},
   "outputs": [
    {
     "name": "stdout",
     "output_type": "stream",
     "text": [
      "OrderedDict([('schools', OrderedDict([('school', [OrderedDict([('gsId', '1'), ('name', 'Alameda High School'), ('type', 'public'), ('gradeRange', '9-12'), ('enrollment', '1853'), ('gsRating', '10'), ('parentRating', '4'), ('city', 'Alameda'), ('state', 'CA'), ('districtId', '1'), ('district', 'Alameda Unified School District'), ('districtNCESId', '0601770'), ('address', '2201 Encinal Avenue, \\nAlameda, CA  94501'), ('phone', '(510) 337-7022'), ('fax', '(510) 521-4740'), ('website', 'http://aus.alamedausd.ca.schoolloop.com/'), ('ncesId', '060177000041'), ('lat', '37.764294'), ('lon', '-122.24807'), ('overviewLink', 'https://www.greatschools.org/california/alameda/1-Alameda-High-School/?utm_source=GSAPI&utm_medium=referral'), ('ratingsLink', 'https://www.greatschools.org/california/alameda/1-Alameda-High-School/?utm_source=GSAPI&utm_medium=referral'), ('reviewsLink', 'https://www.greatschools.org/california/alameda/1-Alameda-High-School/?utm_source=GSAPI&utm_medium=referral#Reviews'), ('schoolStatsLink', 'https://www.greatschools.org/california/alameda/1-Alameda-High-School/?utm_source=GSAPI&utm_medium=referral')]), OrderedDict([('gsId', '11902'), ('name', 'Alameda Community Learning Center'), ('type', 'charter'), ('gradeRange', '6-12'), ('enrollment', '360'), ('gsRating', '8'), ('parentRating', '4'), ('city', 'Alameda'), ('state', 'CA'), ('districtId', '1'), ('district', 'Alameda Unified School District'), ('districtNCESId', '0601770'), ('address', '1900 Third Street, \\nAlameda, CA  94501'), ('phone', '(510) 995-4300'), ('fax', '(510) 995-4307'), ('website', 'www.alamedaclc.org'), ('ncesId', '060177008673'), ('lat', '37.779053'), ('lon', '-122.28703'), ('overviewLink', 'https://www.greatschools.org/california/alameda/11902-Alameda-Community-Learning-Center/?utm_source=GSAPI&utm_medium=referral'), ('ratingsLink', 'https://www.greatschools.org/california/alameda/11902-Alameda-Community-Learning-Center/?utm_source=GSAPI&utm_medium=referral'), ('reviewsLink', 'https://www.greatschools.org/california/alameda/11902-Alameda-Community-Learning-Center/?utm_source=GSAPI&utm_medium=referral#Reviews'), ('schoolStatsLink', 'https://www.greatschools.org/california/alameda/11902-Alameda-Community-Learning-Center/?utm_source=GSAPI&utm_medium=referral')]), OrderedDict([('gsId', '25256'), ('name', 'The Academy Of Alameda'), ('type', 'charter'), ('gradeRange', '6-8'), ('enrollment', '494'), ('gsRating', '6'), ('parentRating', '5'), ('city', 'Alameda'), ('state', 'CA'), ('districtId', '1'), ('district', 'Alameda Unified School District'), ('districtNCESId', '0601770'), ('address', '401 Pacific Avenue, \\nAlameda, CA  94501'), ('phone', '(510) 748-4017'), ('fax', '(510) 523-5304'), ('website', 'http://aoaschools.org/'), ('ncesId', '060177000042'), ('lat', '37.776497'), ('lon', '-122.28582'), ('overviewLink', 'https://www.greatschools.org/california/alameda/25256-The-Academy-Of-Alameda/?utm_source=GSAPI&utm_medium=referral'), ('ratingsLink', 'https://www.greatschools.org/california/alameda/25256-The-Academy-Of-Alameda/?utm_source=GSAPI&utm_medium=referral'), ('reviewsLink', 'https://www.greatschools.org/california/alameda/25256-The-Academy-Of-Alameda/?utm_source=GSAPI&utm_medium=referral#Reviews'), ('schoolStatsLink', 'https://www.greatschools.org/california/alameda/25256-The-Academy-Of-Alameda/?utm_source=GSAPI&utm_medium=referral')]), OrderedDict([('gsId', '8485'), ('name', 'Alameda Christian School'), ('type', 'private'), ('gradeRange', 'K-8'), ('enrollment', '30'), ('parentRating', '5'), ('city', 'Alameda'), ('state', 'CA'), ('address', '2226 Pacific Avenue, \\nAlameda, CA  94501'), ('phone', '(510) 523-1000'), ('fax', '(510) 523-4022'), ('website', 'http://www.alamedachristianschool.com'), ('ncesId', '00079445'), ('lat', '37.768845'), ('lon', '-122.24388'), ('overviewLink', 'https://www.greatschools.org/california/alameda/8485-Alameda-Christian-School/?utm_source=GSAPI&utm_medium=referral'), ('ratingsLink', 'https://www.greatschools.org/california/alameda/8485-Alameda-Christian-School/?utm_source=GSAPI&utm_medium=referral'), ('reviewsLink', 'https://www.greatschools.org/california/alameda/8485-Alameda-Christian-School/?utm_source=GSAPI&utm_medium=referral#Reviews'), ('schoolStatsLink', 'https://www.greatschools.org/california/alameda/8485-Alameda-Christian-School/?utm_source=GSAPI&utm_medium=referral')]), OrderedDict([('gsId', '24205'), ('name', 'Chinese Christian Schools - Alameda'), ('type', 'private'), ('gradeRange', 'K-8'), ('enrollment', '349'), ('parentRating', '4'), ('city', 'Alameda'), ('state', 'CA'), ('address', '1801 North Loop Road, \\nAlameda, CA  94502'), ('phone', '(510) 522-0200'), ('fax', None), ('website', None), ('ncesId', 'A0500218'), ('lat', '37.727272'), ('lon', '-122.239456'), ('overviewLink', 'https://www.greatschools.org/california/alameda/24205-Chinese-Christian-Schools---Alameda/?utm_source=GSAPI&utm_medium=referral'), ('ratingsLink', 'https://www.greatschools.org/california/alameda/24205-Chinese-Christian-Schools---Alameda/?utm_source=GSAPI&utm_medium=referral'), ('reviewsLink', 'https://www.greatschools.org/california/alameda/24205-Chinese-Christian-Schools---Alameda/?utm_source=GSAPI&utm_medium=referral#Reviews'), ('schoolStatsLink', 'https://www.greatschools.org/california/alameda/24205-Chinese-Christian-Schools---Alameda/?utm_source=GSAPI&utm_medium=referral')]), OrderedDict([('gsId', '25837'), ('name', 'Chinese American Schools - Alameda'), ('type', 'private'), ('gradeRange', '9-12'), ('city', 'Alameda'), ('state', 'CA'), ('address', '1501 Harbor Bay Parkway, \\nAlameda, CA  94502'), ('phone', '(510) 814-7321'), ('fax', None), ('website', None), ('ncesId', None), ('lat', '37.725845'), ('lon', '-122.23934'), ('overviewLink', 'https://www.greatschools.org/california/alameda/25837-Chinese-American-Schools---Alameda/?utm_source=GSAPI&utm_medium=referral'), ('ratingsLink', 'https://www.greatschools.org/california/alameda/25837-Chinese-American-Schools---Alameda/?utm_source=GSAPI&utm_medium=referral'), ('reviewsLink', 'https://www.greatschools.org/california/alameda/25837-Chinese-American-Schools---Alameda/?utm_source=GSAPI&utm_medium=referral#Reviews'), ('schoolStatsLink', 'https://www.greatschools.org/california/alameda/25837-Chinese-American-Schools---Alameda/?utm_source=GSAPI&utm_medium=referral')]), OrderedDict([('gsId', '13988'), ('name', 'Alameda County Community'), ('type', 'public'), ('gradeRange', 'K-12'), ('enrollment', '133'), ('parentRating', '5'), ('city', 'Hayward'), ('state', 'CA'), ('districtId', '1069'), ('district', 'Alameda County Office of Education'), ('districtNCESId', '0691051'), ('address', '313 West Winton Avenue, \\nHayward, CA  94544'), ('phone', '(510) 670-4590'), ('fax', '(510) 293-9201'), ('website', 'www.acoe.org'), ('ncesId', '069105106830'), ('lat', '37.65821'), ('lon', '-122.09713'), ('overviewLink', 'https://www.greatschools.org/california/hayward/13988-Alameda-County-Community/?utm_source=GSAPI&utm_medium=referral'), ('ratingsLink', 'https://www.greatschools.org/california/hayward/13988-Alameda-County-Community/?utm_source=GSAPI&utm_medium=referral'), ('reviewsLink', 'https://www.greatschools.org/california/hayward/13988-Alameda-County-Community/?utm_source=GSAPI&utm_medium=referral#Reviews'), ('schoolStatsLink', 'https://www.greatschools.org/california/hayward/13988-Alameda-County-Community/?utm_source=GSAPI&utm_medium=referral')]), OrderedDict([('gsId', '1658'), ('name', 'Alameda Elementary School'), ('type', 'public'), ('gradeRange', 'K-3'), ('enrollment', '632'), ('gsRating', '7'), ('parentRating', '5'), ('city', 'Downey'), ('state', 'CA'), ('districtId', '267'), ('district', 'Downey Unified School District'), ('districtNCESId', '0611460'), ('address', '8613 East Alameda Street, \\nDowney, CA  90242'), ('phone', '(562) 904-3589'), ('fax', '(562) 469-7100'), ('website', None), ('ncesId', '061146001260'), ('lat', '33.92534'), ('lon', '-118.1362'), ('overviewLink', 'https://www.greatschools.org/california/downey/1658-Alameda-Elementary-School/?utm_source=GSAPI&utm_medium=referral'), ('ratingsLink', 'https://www.greatschools.org/california/downey/1658-Alameda-Elementary-School/?utm_source=GSAPI&utm_medium=referral'), ('reviewsLink', 'https://www.greatschools.org/california/downey/1658-Alameda-Elementary-School/?utm_source=GSAPI&utm_medium=referral#Reviews'), ('schoolStatsLink', 'https://www.greatschools.org/california/downey/1658-Alameda-Elementary-School/?utm_source=GSAPI&utm_medium=referral')]), OrderedDict([('gsId', '14052'), ('name', 'Alameda Science And Technology Institute'), ('type', 'public'), ('gradeRange', '9-12'), ('enrollment', '192'), ('gsRating', '10'), ('parentRating', '4'), ('city', 'Alameda'), ('state', 'CA'), ('districtId', '1'), ('district', 'Alameda Unified School District'), ('districtNCESId', '0601770'), ('address', '555 Atlantic Avenue, \\nAlameda, CA  94501'), ('phone', '(510) 748-4021'), ('fax', '(510) 748-4121'), ('website', 'https://asti-alamedausd-ca.schoolloop.com'), ('ncesId', '060177010547'), ('lat', '37.779884'), ('lon', '-122.28052'), ('overviewLink', 'https://www.greatschools.org/california/alameda/14052-Alameda-Science-And-Technology-Institute/?utm_source=GSAPI&utm_medium=referral'), ('ratingsLink', 'https://www.greatschools.org/california/alameda/14052-Alameda-Science-And-Technology-Institute/?utm_source=GSAPI&utm_medium=referral'), ('reviewsLink', 'https://www.greatschools.org/california/alameda/14052-Alameda-Science-And-Technology-Institute/?utm_source=GSAPI&utm_medium=referral#Reviews'), ('schoolStatsLink', 'https://www.greatschools.org/california/alameda/14052-Alameda-Science-And-Technology-Institute/?utm_source=GSAPI&utm_medium=referral')]), OrderedDict([('gsId', '32002'), ('name', 'The Academy Of Alameda Elementary'), ('type', 'charter'), ('gradeRange', 'K-5'), ('enrollment', '251'), ('gsRating', '5'), ('city', 'Alameda'), ('state', 'CA'), ('districtId', '1'), ('district', 'Alameda Unified School District'), ('districtNCESId', '0601770'), ('address', '401 Pacific Avenue, \\nAlameda, CA  94501'), ('phone', '(510) 748-4017'), ('fax', None), ('website', 'www.aoaschools.org'), ('ncesId', '060177013871'), ('lat', '37.77693'), ('lon', '-122.28528'), ('overviewLink', 'https://www.greatschools.org/california/alameda/32002-The-Academy-Of-Alameda-Elementary/?utm_source=GSAPI&utm_medium=referral'), ('ratingsLink', 'https://www.greatschools.org/california/alameda/32002-The-Academy-Of-Alameda-Elementary/?utm_source=GSAPI&utm_medium=referral'), ('reviewsLink', 'https://www.greatschools.org/california/alameda/32002-The-Academy-Of-Alameda-Elementary/?utm_source=GSAPI&utm_medium=referral#Reviews'), ('schoolStatsLink', 'https://www.greatschools.org/california/alameda/32002-The-Academy-Of-Alameda-Elementary/?utm_source=GSAPI&utm_medium=referral')])])]))])\n",
      "school\n"
     ]
    }
   ],
   "source": [
    "# failed XML processing code\n",
    "import xmltodict as xml\n",
    "import requests\n",
    "req = requests.get('https://api.greatschools.org/search/schools?key=357446fa062af32f23d812b77903e1b8&state=CA&q=Alameda&limit=10')\n",
    "reqDict = xml.parse(req.text)\n",
    "print(reqDict)\n",
    "for item in reqDict['schools']:\n",
    "    print(item)"
   ]
  },
  {
   "cell_type": "code",
   "execution_count": 1,
   "metadata": {},
   "outputs": [
    {
     "ename": "ModuleNotFoundError",
     "evalue": "No module named 'untangle'",
     "output_type": "error",
     "traceback": [
      "\u001b[0;31m---------------------------------------------------------------------------\u001b[0m",
      "\u001b[0;31mModuleNotFoundError\u001b[0m                       Traceback (most recent call last)",
      "\u001b[0;32m<ipython-input-1-76c2df6fdfe8>\u001b[0m in \u001b[0;36m<module>\u001b[0;34m\u001b[0m\n\u001b[1;32m      2\u001b[0m \u001b[0;32mimport\u001b[0m \u001b[0mxmltodict\u001b[0m \u001b[0;32mas\u001b[0m \u001b[0mxml\u001b[0m\u001b[0;34m\u001b[0m\u001b[0;34m\u001b[0m\u001b[0m\n\u001b[1;32m      3\u001b[0m \u001b[0;32mimport\u001b[0m \u001b[0mrequests\u001b[0m\u001b[0;34m\u001b[0m\u001b[0;34m\u001b[0m\u001b[0m\n\u001b[0;32m----> 4\u001b[0;31m \u001b[0;32mimport\u001b[0m \u001b[0muntangle\u001b[0m\u001b[0;34m\u001b[0m\u001b[0;34m\u001b[0m\u001b[0m\n\u001b[0m\u001b[1;32m      5\u001b[0m \u001b[0mreq\u001b[0m \u001b[0;34m=\u001b[0m \u001b[0mrequests\u001b[0m\u001b[0;34m.\u001b[0m\u001b[0mget\u001b[0m\u001b[0;34m(\u001b[0m\u001b[0;34m'https://api.greatschools.org/search/schools?key=357446fa062af32f23d812b77903e1b8&state=CA&q=Alameda&limit=10'\u001b[0m\u001b[0;34m)\u001b[0m\u001b[0;34m\u001b[0m\u001b[0;34m\u001b[0m\u001b[0m\n\u001b[1;32m      6\u001b[0m \u001b[0mreqDict\u001b[0m \u001b[0;34m=\u001b[0m \u001b[0muntangle\u001b[0m\u001b[0;34m.\u001b[0m\u001b[0mparse\u001b[0m\u001b[0;34m(\u001b[0m\u001b[0mreq\u001b[0m\u001b[0;34m.\u001b[0m\u001b[0mtext\u001b[0m\u001b[0;34m)\u001b[0m\u001b[0;34m\u001b[0m\u001b[0;34m\u001b[0m\u001b[0m\n",
      "\u001b[0;31mModuleNotFoundError\u001b[0m: No module named 'untangle'"
     ]
    }
   ],
   "source": [
    "# failed XML processing code\n",
    "import xmltodict as xml\n",
    "import requests\n",
    "import untangle\n",
    "req = requests.get('https://api.greatschools.org/search/schools?key=357446fa062af32f23d812b77903e1b8&state=CA&q=Alameda&limit=10')\n",
    "reqDict = untangle.parse(req.text)\n",
    "print(req.text)"
   ]
  }
 ],
 "metadata": {
  "kernelspec": {
   "display_name": "Python 3",
   "language": "python",
   "name": "python3"
  },
  "language_info": {
   "codemirror_mode": {
    "name": "ipython",
    "version": 3
   },
   "file_extension": ".py",
   "mimetype": "text/x-python",
   "name": "python",
   "nbconvert_exporter": "python",
   "pygments_lexer": "ipython3",
   "version": "3.8.3"
  }
 },
 "nbformat": 4,
 "nbformat_minor": 2
}

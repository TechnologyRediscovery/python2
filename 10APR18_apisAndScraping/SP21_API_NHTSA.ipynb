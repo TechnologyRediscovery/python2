{
 "cells": [
  {
   "cell_type": "code",
   "execution_count": 3,
   "metadata": {},
   "outputs": [
    {
     "name": "stdout",
     "output_type": "stream",
     "text": [
      "38473847387affccef4636\n"
     ]
    }
   ],
   "source": [
    "import json\n",
    "# read in JSON file with restricted access data\n",
    "# restricted API key is located in a file containing JSON encoded text in which\n",
    "# the API key is the value of a dictionary with a key of API_KEY\n",
    "apik = \"\"\n",
    "with open('/home/edith/gitpracpy2/dontpushme/security.json', 'r') as sensitivefile:\n",
    "    s = json.loads(sensitivefile.read())\n",
    "    apik = s['API_KEY']\n",
    "print(apik)\n"
   ]
  },
  {
   "cell_type": "code",
   "execution_count": 4,
   "metadata": {},
   "outputs": [
    {
     "name": "stdout",
     "output_type": "stream",
     "text": [
      "200\n",
      "************* RECALL *****************\n",
      "{'Manufacturer': 'GENERAL MOTORS CORP.', 'NHTSACampaignNumber': '00V228003', 'ReportReceivedDate': '/Date(965620800000-0400)/', 'Component': 'SEAT BELTS', 'Summary': 'VEHICLE DESCRIPTION:  PASSENGER VEHICLES, LIGHT DUTY TRUCKS, SPORT UTILITY VEHICLES, AND MINI VANS EQUIPPED WITH TRW SEAT BELT BUCKLE ASSEMBLIES.  THE BUCKLE BASE OF THESE SEAT BELT ASSEMBLIES WERE NOT PROPERLY HEAT TREATED AND THEREFORE DO NOT PASS THE LOAD BEARING REQUIREMENT OF FEDERAL MOTOR VEHICLE SAFETY STANDARD NO. 209, \"SEAT BELT ASSEMBLIES.\"', 'Conequence': 'IN THE EVENT OF A VEHICLE CRASH, THE OCCUPANT MAY NOT BE PROPERLY RESTRAINED.', 'Remedy': \"DEALERS WILL INSPECT THE VEHICLE'S SAFETY BELT BUCKLE ASSEMBLY DATE CODES AND, IF NECESSARY, WILL REPLACE ANY SAFETY BELT BUCKLE ASSEMBLY.\", 'Notes': \"OWNER NOTIFICATION BEGAN AUGUST 24, 2000.   OWNERS WHO TAKE THEIR VEHICLES TO AN AUTHORIZED DEALER ON AN AGREED UPON SERVICE DATE AND DO NOT RECEIVE THE FREE REMEDY WITHIN A REASONABLE TIME SHOULD CONTACT BUICK AT 1-800-521-7300; CHEVROLET AT 1-800-222-1020; GMC AT 1-800-462-8782; OLDSMOBILE AT 1-800-442-6537; PONTIAC AT 1-800-762-2737; OR SATURN AT 1-800-553-6000.     ALSO CONTACT THE NATIONAL HIGHWAY TRAFFIC SAFETY ADMINISTRATION'S AUTO SAFETY HOTLINE AT 1-888-DASH-2-DOT (1-888-327-4236).\", 'ModelYear': '2000', 'Make': 'SATURN', 'Model': 'LS'}\n",
      "************* RECALL *****************\n",
      "{'Manufacturer': 'GENERAL MOTORS CORP.', 'NHTSACampaignNumber': '03V231000', 'ReportReceivedDate': '/Date(1056340800000-0400)/', 'Component': 'ELECTRICAL SYSTEM:IGNITION:MODULE', 'Summary': 'ON CERTAIN PASSENGER VEHICLES EQUIPPED WITH 2.2L L4 (L61) ENGINES, A FAILURE OF THE IGNITION CONTROL MODULE MAY CAUSE DETERIORATION IN IDLE QUALITY, REDUCTION IN OVERALL ENGINE POWER, AND THE VEHICLE MAY BE HARD TO START.  CONTINUED OPERATION OF THE VEHICLE AFTER SUCH AN IGNITION MODULE FAILURE WILL RESULT IN THE \"SERVICE ENGINE SOON\" LIGHT FLASHING, AND MAY LEAD TO SECONDARY FAILURES OF THE CATALYTIC CONVERTER, OXYGEN SENSOR, AND EXHAUST RESONATOR.    \\r\\n', 'Conequence': 'FAILURE OF THE RESONATOR WILL CAUSE INCREASED EXHAUST NOISE.  PROLONGED OPERATION OF THE VEHICLE FOLLOWING A RESONATOR FAILURE MAY LEAD TO A  FIRE.  ', 'Remedy': 'DEALERS WILL (1) REPLACE THE IGNITION CONTROL MODULE, (2) REPLACE THE IGNITION CONTROL MODULE AND SPARK PLUGS, OR (3) REPLACE THE IGNITION CONTROL MODULE, SPARK PLUGS, AND UPDATE THE POWERTRAIN CONTROL MODULE CALIBRATION.   OWNER NOTIFICATION BEGAN ON AUGUST 4, 2003.  OWNERS SHOULD CONTACT SATURN AT 1-800-553-6000, PROMPT 3.   ', 'Notes': \"GM RECALL NO. 03033/SATURN RECALL NO. 03-C-06.  CUSTOMERS CAN ALSO CONTACT THE NATIONAL HIGHWAY TRAFFIC SAFETY ADMINISTRATION'S AUTO SAFETY HOTLINE AT 1-888-DASH-2-DOT (1-888-327-4236).\", 'ModelYear': '2000', 'Make': 'SATURN', 'Model': 'LS'}\n",
      "************* RECALL *****************\n",
      "{'Manufacturer': 'GENERAL MOTORS CORP.', 'NHTSACampaignNumber': '05V245000', 'NHTSAActionNumber': 'PE05010', 'ReportReceivedDate': '/Date(1117684800000-0400)/', 'Component': 'EXTERIOR LIGHTING:BRAKE LIGHTS', 'Summary': 'ON CERTAIN SEDANS AND WAGONS, THE PLASTIC HOUSING IN THE REAR TAIL LAMP ASSEMBLY CAN BECOME DISTORTED IF THE BRAKE LAMPS REMAIN ON FOR AN EXTENDED TIME.', 'Conequence': 'THIS CAN CAUSE (1) AN INTERMITTENTLY INOPERATIVE BRAKE/TAIL LAMP BULB OR (2) A SHORT CIRCUIT THAT OPENS A FUSE CAUSING INOPERATIVE BRAKE LAMPS (INCLUDING THE CENTER HIGH-MOUNTED STOP LAMP) OR TAIL LAMPS.  A FOLLOWING DRIVER MAY NOT KNOW WHEN THE BRAKES HAVE BEEN APPLIED, AND A REAR-END CRASH COULD OCCUR WITHOUT PRIOR WARNING.', 'Remedy': 'DEALERS WILL INSTALL TWO NEW TAIL LAMP REINFORCING SOCKET ADAPTERS AND SOCKETS FREE OF CHARGE.    THE RECALL BEGAN ON OCTOBER 17, 2005.  OWNERS MAY CONTACT SATURN AT 1-800-972-8876.', 'Notes': \"GM RECALL NO. 05052.  CUSTOMERS MAY ALSO CONTACT THE NATIONAL HIGHWAY TRAFFIC SAFETY ADMINISTRATION'S VEHICLE SAFETY HOTLINE AT 1-888-327-4236 (TTY 1-800-424-9153), OR GO TO HTTP://WWW.SAFERCAR.GOV.\", 'ModelYear': '2000', 'Make': 'SATURN', 'Model': 'LS'}\n",
      "************* RECALL *****************\n",
      "{'Manufacturer': 'GENERAL MOTORS CORP.', 'NHTSACampaignNumber': '99V197000', 'ReportReceivedDate': '/Date(932961600000-0400)/', 'Component': 'FUEL SYSTEM, GASOLINE:STORAGE:TANK ASSEMBLY', 'Summary': 'VEHICLE DESCRIPTION:  PASSENGER VEHICLES.  THESE VEHICLES DO NOT COMPLY WITH REQUIREMENTS OF FMVSS NO. 301, \"FUEL SYSTEM INTEGRITY.\"   THESE VEHICLES MAY HAVE BEEN PRODUCED WITH AN INOPERATIVE VALVE WITHIN THE FUEL TANK ASSEMBLY.', 'Conequence': 'IF A VEHICLE WITH AN INOPERATIVE VALVE WERE INVOLVED IN A ROLLOVER, FUEL SPILLAGE COULD OCCUR.', 'Remedy': 'DEALERS WILL INSPECT THE VEHICLES TO ENSURE THAT THE FUEL TANK ASSEMBLY VALVE IS OPERATING AS INTENDED.  THEY WILL REPLACE THE FUEL TANK ASSEMBLY IF NECESSARY.', 'Notes': \"OWNER NOTIFICATION BEGAN JULY 23, 1999.  OWNERS WHO TAKE THEIR VEHICLES TO AN AUTHORIZED DEALER ON AN AGREED UPON SERVICE DATE AND DO NOT RECEIVE THE FREE REMEDY WITHIN A REASONABLE TIME SHOULD CONTACT SATURN AT 1-800-553-6000, PROMPT 3.   ALSO CONTACT THE NATIONAL HIGHWAY TRAFFIC SAFETY ADMINISTRATION'S AUTO SAFETY HOTLINE AT 1-888-DASH-2-DOT (1-888-327-4236).\\r\\n\", 'ModelYear': '2000', 'Make': 'SATURN', 'Model': 'LS'}\n",
      "************* RECALL *****************\n",
      "{'Manufacturer': 'GENERAL MOTORS CORP.', 'NHTSACampaignNumber': '99V199000', 'ReportReceivedDate': '/Date(932961600000-0400)/', 'Component': 'EXTERIOR LIGHTING:TURN SIGNAL:SWITCH', 'Summary': 'VEHICLE DESCRIPTION:  PASSENGER VEHICLES. THESE VEHICLES DO NOT COMPLY WITH REQUIREMENTS OF FMVSS NO. 108, \"LAMPS, REFLECTIVE DEVICES, AND ASSOCIATED EQUIPMENT.\"  BECAUSE OF A PROBLEM IN THE HAZARD WARNING SWITCH ASSEMBLY, THE TURN SIGNAL LAMPS MAY NOT WORK OR MAY WORK INTERMITTENTLY WHEN THE DRIVER USES THE TURN SIGNAL LEVER OR HAZARD WARNING SWITCH.  IF THE VEHICLE TURN SIGNAL INDICATORS ARE NOT FLASHING, THEN THE TURN SIGNAL LAMPS MAY NOT BE FLASHING.', 'Conequence': 'OTHER DRIVERS MAY NOT BE ALERTED THAT THE VEHICLE IS TURNING AND A CRASH COULD OCCUR.', 'Remedy': 'DEALERS WILL REPLACE THE HAZARD WARNING SWITCH ASSEMBLY.', 'Notes': \"OWNER NOTIFICATION BEGAN JULY 23, 1999.  OWNERS WHO TAKE THEIR VEHICLES TO AN AUTHORIZED DEALER ON AN AGREED UPON SERVICE DATE AND DO NOT RECEIVE THE FREE REMEDY WITHIN A REASONABLE TIME SHOULD CONTACT SATURN AT 1-800-553-6000, PROMPT 3.   ALSO CONTACT THE NATIONAL HIGHWAY TRAFFIC SAFETY ADMINISTRATION'S AUTO SAFETY HOTLINE AT 1-888-DASH-2-DOT (1-888-327-4236).\\r\\n\", 'ModelYear': '2000', 'Make': 'SATURN', 'Model': 'LS'}\n",
      "************* RECALL *****************\n",
      "{'Manufacturer': 'GENERAL MOTORS CORP.', 'NHTSACampaignNumber': '99V345000', 'NHTSAActionNumber': 'PE99064', 'ReportReceivedDate': '/Date(944110800000-0500)/', 'Component': 'FUEL SYSTEM, GASOLINE:STORAGE', 'Summary': 'VEHICLE DESCRIPTION:  PASSENGER VEHICLES.   FUEL TANK ASSEMBLIES IN THESE VEHICLES HAVE AN OVER PRESSURE RELIEF (OPR) VALVE THAT CAN BECOME STUCK OPEN IN A FRONTAL COLLISION.  IF THE VEHICLE ROLLS OVER, FUEL SPILLAGE COULD OCCUR.', 'Conequence': 'IF AN IGNITION SOURCE IS PRESENT, A FIRE COULD RESULT.', 'Remedy': 'DEALERS WILL PERMANENTLY SEAL THE OUTLET PORT OF THE OPR VALVE.', 'Notes': \"OWNER NOTIFICATION IS EXPECTED TO BEGIN DURING DECEMBER 1999.  OWNERS WHO TAKE THEIR VEHICLES TO AN AUTHORIZED DEALER ON AN AGREED UPON SERVICE DATE AND DO NOT RECEIVE THE FREE REMEDY WITHIN A REASONABLE TIME SHOULD CONTACT SATURN AT 1-800-553-6000, PROMPT #3.    ALSO CONTACT THE NATIONAL HIGHWAY TRAFFIC SAFETY ADMINISTRATION'S AUTO SAFETY HOTLINE AT 1-888-DASH-2-DOT (1-888-327-4236).\\n\", 'ModelYear': '2000', 'Make': 'SATURN', 'Model': 'LS'}\n"
     ]
    }
   ],
   "source": [
    "import requests\n",
    "\n",
    "\n",
    "# Connect to the NHTSA API by building a URL-encoded GET request\n",
    "# API Endpoint: \"front door our API server\"\n",
    "API_ENDPOINT = \"http://www.nhtsa.gov/webapi/api/\"\n",
    "\n",
    "# Sample request URL for testing\n",
    "# http://www.nhtsa.gov/webapi/api/Recalls/vehicle/modelyear/2000/make/saturn/model/ls?format=json\n",
    "\n",
    "# use requests to ask a remote server for data and store the response in var response\n",
    "headers = {'user-agent': 'loretta_on_python'}\n",
    "response = requests.get('http://www.nhtsa.gov/webapi/api/Recalls/vehicle/modelyear/2000/make/saturn/model/ls?format=json', headers=headers)\n",
    "# when we get our response back, we'll check it status to see if all is well \n",
    "# before unpacking the data\n",
    "print(response.status_code) \n",
    "# 200 is OK, \n",
    "# 404 means \"I don't have that file\", \n",
    "# 500-level codes are server errors\n",
    "# print(response.text)\n",
    "payload_objects = json.loads(response.text)\n",
    "# Extract just the value of the key Results, which is a list\n",
    "recalls = payload_objects['Results']\n",
    "# iterate over list\n",
    "for i in recalls:\n",
    "    print('************* RECALL *****************')\n",
    "    print(i)"
   ]
  },
  {
   "cell_type": "code",
   "execution_count": 9,
   "metadata": {},
   "outputs": [],
   "source": [
    "def build_nhtsa_url(year, make, model):\n",
    "    '''\n",
    "    Composes an API request URL to the NHTSA given a vehicle's year, make, and model\n",
    "    '''\n",
    "    API_ENDPOINT = \"http://www.nhtsa.gov/webapiz/api/\"\n",
    "    recall_portion = \"\"\n",
    "    # Use Python string formatting to create injecetion points with %s\n",
    "    # python will be expecting a tuple following this string which contains a \n",
    "    # string value for each of the %s found in base string\n",
    "    if model is not None:\n",
    "        recall_portion = \"Recalls/vehicle/modelyear/%s/make/%s/model/%s?format=json\" % (year, make, model)\n",
    "    else:\n",
    "        recall_portion = \"Recalls/vehicle/modelyear/%s/make/%s/?format=json\" % (year, make)\n",
    "    full_url = API_ENDPOINT + recall_portion\n",
    "    print(\"URL: \", full_url)\n",
    "    return full_url\n",
    "    \n",
    "    "
   ]
  },
  {
   "cell_type": "code",
   "execution_count": 10,
   "metadata": {},
   "outputs": [],
   "source": [
    "def make_api_req(url):\n",
    "    # send the request over the network and store response in resp\n",
    "    resp = requests.get(url)\n",
    "    print(\"Made request, response status: \", resp.status_code)\n",
    "    # check for status code 200\n",
    "    if(int(resp.status_code) == 200):\n",
    "        payload_objects = json.loads(resp.text)\n",
    "        return payload_objects\n",
    "    else:\n",
    "        raise Exception(\"Non 200 status code\")"
   ]
  },
  {
   "cell_type": "code",
   "execution_count": 12,
   "metadata": {},
   "outputs": [
    {
     "name": "stdout",
     "output_type": "stream",
     "text": [
      "URL:  http://www.nhtsa.gov/webapiz/api/Recalls/vehicle/modelyear/2005/make/Ford/model/MUSTANG?format=json\n",
      "Made request, response status:  404\n",
      "Non 200 status code\n"
     ]
    }
   ],
   "source": [
    "# test our URL builder:\n",
    "try:\n",
    "    print(make_api_req(build_nhtsa_url(2005, 'Ford', \"MUSTANG\")))\n",
    "except Exception as ex:\n",
    "    print(ex)"
   ]
  }
 ],
 "metadata": {
  "kernelspec": {
   "display_name": "Python 3",
   "language": "python",
   "name": "python3"
  },
  "language_info": {
   "codemirror_mode": {
    "name": "ipython",
    "version": 3
   },
   "file_extension": ".py",
   "mimetype": "text/x-python",
   "name": "python",
   "nbconvert_exporter": "python",
   "pygments_lexer": "ipython3",
   "version": "3.8.3"
  }
 },
 "nbformat": 4,
 "nbformat_minor": 4
}

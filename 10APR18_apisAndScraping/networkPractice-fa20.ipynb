{
 "cells": [
  {
   "cell_type": "code",
   "execution_count": null,
   "metadata": {},
   "outputs": [],
   "source": []
  },
  {
   "cell_type": "code",
   "execution_count": 1,
   "metadata": {},
   "outputs": [],
   "source": [
    "import requests, json\n",
    "\n",
    "#Builds a request URL for sending to NHTSA API\n",
    "API_ENDPOINT = \"http://www.nhtsa.gov/webapi/api/\"\n",
    "\n",
    "def build_NHTSA_URL_getmodels(year, make, model):\n",
    "    # sample API route:\n",
    "    # /api/Recalls/vehicle/modelyear/2000/make/saturn?format=json\n",
    "    if(model is not None):\n",
    "        veh_models_route = \"/Recalls/vehicle/modelyear/%s/make/%s/model/%s?format=json\" % (year, make, model)\n",
    "    else:\n",
    "        veh_models_route = \"/Recalls/vehicle/modelyear/%s/make/%s/?format=json\" % (year, make)  \n",
    "    url = API_ENDPOINT + veh_models_route\n",
    "    print(\"RETURNED URL: \", end=\"\")\n",
    "    print(url)\n",
    "    return url\n",
    "\n",
    "        "
   ]
  },
  {
   "cell_type": "code",
   "execution_count": 2,
   "metadata": {},
   "outputs": [],
   "source": [
    "# takes in a URL to request against the NHTSA api, returns\n",
    "# emtpy dict in case of failed response\n",
    "def make_API_Req(url):    \n",
    "    resp = requests.get(url)\n",
    "    print(resp.status_code)\n",
    "    if(int(resp.status_code) == 200):\n",
    "        payload = json.loads(resp.text)\n",
    "        return payload\n",
    "    else:\n",
    "        return {}"
   ]
  },
  {
   "cell_type": "code",
   "execution_count": 3,
   "metadata": {},
   "outputs": [
    {
     "name": "stdout",
     "output_type": "stream",
     "text": [
      "RETURNED URL: http://www.nhtsa.gov/webapi/api//Recalls/vehicle/modelyear/2000/make/saturn/?format=json\n",
      "200\n",
      "{'Count': 5, 'Message': 'Results returned successfully', 'Results': [{'ModelYear': '2000', 'Make': 'SATURN', 'Model': 'LS'}, {'ModelYear': '2000', 'Make': 'SATURN', 'Model': 'SC'}, {'ModelYear': '2000', 'Make': 'SATURN', 'Model': 'SC1'}, {'ModelYear': '2000', 'Make': 'SATURN', 'Model': 'SL'}, {'ModelYear': '2000', 'Make': 'SATURN', 'Model': 'SW'}]}\n"
     ]
    }
   ],
   "source": [
    "nhtsa_response = make_API_Req(build_NHTSA_URL_getmodels(\"2000\", \"saturn\", None))\n",
    "print(nhtsa_response)\n"
   ]
  }
 ],
 "metadata": {
  "kernelspec": {
   "display_name": "Python 3",
   "language": "python",
   "name": "python3"
  },
  "language_info": {
   "codemirror_mode": {
    "name": "ipython",
    "version": 3
   },
   "file_extension": ".py",
   "mimetype": "text/x-python",
   "name": "python",
   "nbconvert_exporter": "python",
   "pygments_lexer": "ipython3",
   "version": "3.8.3"
  }
 },
 "nbformat": 4,
 "nbformat_minor": 4
}

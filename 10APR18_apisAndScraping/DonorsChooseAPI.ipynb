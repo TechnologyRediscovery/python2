{
 "cells": [
  {
   "cell_type": "code",
   "execution_count": 57,
   "metadata": {},
   "outputs": [],
   "source": [
    "def readKeyWordFile():\n",
    "    for keyWord in open('keywords.txt', newline='\\n'):\n",
    "        apiURL = 'https://api.donorschoose.org/common/json_feed.html?keywords=\"%s\"&APIKey=DONORSCHOOSE&showSynopsis=true&max=50' % (keyWord.rstrip())\n",
    "        result = getAverageRequestByKeyWord(apiURL)\n",
    "        print(keyWord + str(result))"
   ]
  },
  {
   "cell_type": "code",
   "execution_count": 59,
   "metadata": {},
   "outputs": [
    {
     "name": "stdout",
     "output_type": "stream",
     "text": [
      "computer\n",
      "2752.2761999999993\n",
      "pencil\n",
      "390.7289999999999\n",
      "inner-city\n",
      "1276.2248000000002\n",
      "suburb\n",
      "2710.4658\n",
      "black\n",
      "1092.9204\n",
      "white\n",
      "873.3284000000001\n",
      "paper\n",
      "590.9263999999998\n",
      "smart+board\n",
      "1131.8528\n",
      "programming\n",
      "896.7513999999999\n",
      "trip\n",
      "1633.6938000000002\n",
      "travel\n",
      "1790.8731999999995\n",
      "overseas761.1718181818183\n"
     ]
    }
   ],
   "source": [
    "readKeyWordFile()"
   ]
  },
  {
   "cell_type": "code",
   "execution_count": 58,
   "metadata": {},
   "outputs": [],
   "source": [
    "import requests, json\n",
    "def getAverageRequestByKeyWord(url):\n",
    "    req = requests.get(url)\n",
    "    runningTotal = 0\n",
    "    numProps = 0\n",
    "    avg = 0\n",
    "    if(int(req.status_code)==200):\n",
    "        apiDict = json.loads(req.text)\n",
    "        proposalList = apiDict['proposals']\n",
    "        for p in proposalList:\n",
    "            runningTotal = runningTotal + float(p['totalPrice'])\n",
    "        avg = runningTotal / len(proposalList)\n",
    "        return avg"
   ]
  }
 ],
 "metadata": {
  "kernelspec": {
   "display_name": "Python 3",
   "language": "python",
   "name": "python3"
  },
  "language_info": {
   "codemirror_mode": {
    "name": "ipython",
    "version": 3
   },
   "file_extension": ".py",
   "mimetype": "text/x-python",
   "name": "python",
   "nbconvert_exporter": "python",
   "pygments_lexer": "ipython3",
   "version": "3.6.3"
  }
 },
 "nbformat": 4,
 "nbformat_minor": 2
}

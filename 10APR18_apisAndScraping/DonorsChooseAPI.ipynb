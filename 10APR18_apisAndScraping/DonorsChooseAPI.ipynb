{
 "cells": [
  {
   "cell_type": "code",
   "execution_count": 1,
   "metadata": {
    "collapsed": true
   },
   "outputs": [],
   "source": [
    "# iterates over a text file with one keyword per line\n",
    "# for each keyword, call the API server and capture the JSON response\n",
    "def readKeyWordFile():\n",
    "    for keyWord in open('keywords.txt', newline='\\n'):\n",
    "        apiURL = 'https://api.donorschoose.org/common/json_feed.html?keywords=\"%s\"&APIKey=DONORSCHOOSE&showSynopsis=true&max=50' % (keyWord.rstrip())\n",
    "        # Pass entire json blob from server to method to give us back an average value\n",
    "        result = getAverageRequestByKeyWord(apiURL)\n",
    "        print(keyWord.strip() + \": $\" + str(result))"
   ]
  },
  {
   "cell_type": "code",
   "execution_count": 2,
   "metadata": {
    "collapsed": true
   },
   "outputs": [],
   "source": [
    "import requests, json\n",
    "def getAverageRequestByKeyWord(url):\n",
    "    req = requests.get(url)\n",
    "    runningTotal = 0\n",
    "    numProps = 0\n",
    "    avg = 0\n",
    "    # check status code for 200 (all ok)\n",
    "    if(int(req.status_code)==200):\n",
    "        # get the text of the request with req.text\n",
    "        # send this into json.loads to create a native object setup\n",
    "        apiDict = json.loads(req.text)\n",
    "#         Uncomment this to see the actual dictionary we made from the JSON\n",
    "#         print(apiDict)\n",
    "        # navigate the dictionary with standard dict synytax\n",
    "        proposalList = apiDict['proposals']\n",
    "        # process the data in the dictionary using a for loop\n",
    "        for p in proposalList:\n",
    "            runningTotal = runningTotal + float(p['totalPrice'])\n",
    "        avg = runningTotal / len(proposalList)\n",
    "        return avg"
   ]
  },
  {
   "cell_type": "code",
   "execution_count": 3,
   "metadata": {},
   "outputs": [
    {
     "name": "stdout",
     "output_type": "stream",
     "text": [
      "computer: $904.2554000000002\n",
      "pencil: $481.8372000000001\n",
      "inner-city: $1296.5344000000002\n",
      "suburb: $701.3372\n",
      "black: $867.3462000000001\n",
      "white: $640.5260000000001\n",
      "paper: $438.2426000000001\n",
      "smart+board: $2862.004999999999\n",
      "programming: $1227.6904000000004\n",
      "trip: $1567.8482000000001\n",
      "travel: $1136.1397999999997\n",
      "overseas: $959.6037037037036\n",
      "adam: $991.9983999999998\n"
     ]
    }
   ],
   "source": [
    "readKeyWordFile()"
   ]
  },
  {
   "cell_type": "code",
   "execution_count": 4,
   "metadata": {
    "collapsed": true
   },
   "outputs": [],
   "source": [
    "import pandas\n"
   ]
  }
 ],
 "metadata": {
  "kernelspec": {
   "display_name": "Python 3",
   "language": "python",
   "name": "python3"
  },
  "language_info": {
   "codemirror_mode": {
    "name": "ipython",
    "version": 3
   },
   "file_extension": ".py",
   "mimetype": "text/x-python",
   "name": "python",
   "nbconvert_exporter": "python",
   "pygments_lexer": "ipython3",
   "version": "3.6.3"
  }
 },
 "nbformat": 4,
 "nbformat_minor": 2
}

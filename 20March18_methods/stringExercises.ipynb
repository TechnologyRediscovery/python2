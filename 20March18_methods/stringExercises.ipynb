{
 "cells": [
  {
   "cell_type": "code",
   "execution_count": 1,
   "metadata": {
    "collapsed": true
   },
   "outputs": [],
   "source": [
    "# Read in names from a text file and create introductions for each person\n",
    "def parseNamesInFile(filePath):\n",
    "    for line in open(filePath, 'r', newline='\\n'):\n",
    "        greetPersonByFullName(line)\n",
    "    return\n",
    "\n",
    "def greetPersonByFullName(fullName):\n",
    "    separatedNames = fullName.split()\n",
    "    greeting = 'Good evening Dr. %s, Would you mind if I call you %s?' % (separatedNames[1], separatedNames[0])\n",
    "    print(greeting)"
   ]
  },
  {
   "cell_type": "code",
   "execution_count": 2,
   "metadata": {},
   "outputs": [
    {
     "name": "stdout",
     "output_type": "stream",
     "text": [
      "Good evening Dr. Nowiki, Would you mind if I call you Gretchen?\n",
      "Good evening Dr. Brown, Would you mind if I call you Gerald?\n",
      "Good evening Dr. Spacey, Would you mind if I call you Kevin?\n",
      "Good evening Dr. Letarchia, Would you mind if I call you Norine?\n"
     ]
    }
   ],
   "source": [
    "# test call to reading in names\n",
    "file = 'names.txt'\n",
    "parseNamesInFile(file)"
   ]
  }
 ],
 "metadata": {
  "kernelspec": {
   "display_name": "Python 3",
   "language": "python",
   "name": "python3"
  },
  "language_info": {
   "codemirror_mode": {
    "name": "ipython",
    "version": 3
   },
   "file_extension": ".py",
   "mimetype": "text/x-python",
   "name": "python",
   "nbconvert_exporter": "python",
   "pygments_lexer": "ipython3",
   "version": "3.6.3"
  }
 },
 "nbformat": 4,
 "nbformat_minor": 2
}

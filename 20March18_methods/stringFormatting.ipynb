{
 "cells": [
  {
   "cell_type": "code",
   "execution_count": 1,
   "metadata": {},
   "outputs": [
    {
     "name": "stdout",
     "output_type": "stream",
     "text": [
      "good evening, dr.nowiki do you mind if I call you gretchen?\n"
     ]
    }
   ],
   "source": [
    "# first day of python way\n",
    "fname = \"gretchen\"\n",
    "lname = \"nowiki\"\n",
    "greeting = \"good evening, dr.\" + lname + \" do you mind if I call you \" + fname + \"?\"\n",
    "print(greeting)"
   ]
  },
  {
   "cell_type": "code",
   "execution_count": 4,
   "metadata": {},
   "outputs": [
    {
     "name": "stdout",
     "output_type": "stream",
     "text": [
      "good evening, dr nowiki, do you mind if i call you gretchen?\n"
     ]
    }
   ],
   "source": [
    "# string formatting approach\n",
    "nameTuple = ('nowiki', 'gretchen')\n",
    "greeting = \"good evening, dr %s, do you mind if i call you %s?\" % nameTuple\n",
    "print(greeting)"
   ]
  },
  {
   "cell_type": "code",
   "execution_count": 9,
   "metadata": {},
   "outputs": [
    {
     "name": "stdout",
     "output_type": "stream",
     "text": [
      "['gretchen', 'nowiki']\n"
     ]
    }
   ],
   "source": [
    "name = \"gretchen nowiki\"\n",
    "splitName = name.split(' ')\n",
    "print(splitName)"
   ]
  }
 ],
 "metadata": {
  "kernelspec": {
   "display_name": "Python 3",
   "language": "python",
   "name": "python3"
  },
  "language_info": {
   "codemirror_mode": {
    "name": "ipython",
    "version": 3
   },
   "file_extension": ".py",
   "mimetype": "text/x-python",
   "name": "python",
   "nbconvert_exporter": "python",
   "pygments_lexer": "ipython3",
   "version": "3.6.3"
  }
 },
 "nbformat": 4,
 "nbformat_minor": 2
}

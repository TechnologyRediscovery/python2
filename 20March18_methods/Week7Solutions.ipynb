{
 "cells": [
  {
   "cell_type": "code",
   "execution_count": 40,
   "metadata": {
    "collapsed": true
   },
   "outputs": [],
   "source": [
    "# write a method combinelist which takes in a single list of string elements and outputs them in a single string, combined\n",
    "def combineList(stringList):\n",
    "    combinedStrings = ''\n",
    "    for e in stringList:\n",
    "        combinedStrings  = combinedStrings + str(e)\n",
    "    return combinedStrings  \n",
    "    "
   ]
  },
  {
   "cell_type": "code",
   "execution_count": 41,
   "metadata": {},
   "outputs": [
    {
     "name": "stdout",
     "output_type": "stream",
     "text": [
      "firstsecondthird\n"
     ]
    }
   ],
   "source": [
    "# test case for combineList\n",
    "newString = combineList(['first', 'second', 'third'])\n",
    "print (newString)\n"
   ]
  },
  {
   "cell_type": "code",
   "execution_count": 104,
   "metadata": {},
   "outputs": [],
   "source": [
    "# write a method that takes in a file which is a CSV of words in a list and a search string\n",
    "# count all appearances of the searched for string\n",
    "\n",
    "def lookForElements(listFile, searchString):\n",
    "    counter = 0 \n",
    "    searchString = searchString + '\\n'\n",
    "    for l in open(listFile, 'tr', newline='\\n', ):\n",
    "#         print(str(len(l)))\n",
    "#         print(l)\n",
    "        if(searchString == l):\n",
    "            counter=counter+1\n",
    "    return counter"
   ]
  },
  {
   "cell_type": "code",
   "execution_count": 106,
   "metadata": {},
   "outputs": [
    {
     "name": "stdout",
     "output_type": "stream",
     "text": [
      "1\n"
     ]
    }
   ],
   "source": [
    "# test case for lookForElements by opening a file and passing in data to the method\n",
    "filePath = 'vocabulary.txt'\n",
    "searchKey = 'channel'\n",
    "found = lookForElements(filePath, searchKey)\n",
    "print(found)\n"
   ]
  },
  {
   "cell_type": "code",
   "execution_count": 102,
   "metadata": {},
   "outputs": [],
   "source": [
    "import math as math\n",
    "# write a method called deviationOfValues that reads in a dictionary and computes the standard deviation of the values\n",
    "def deviationOfValues(deviantDict):\n",
    "    listOfValues = deviantDict.values()\n",
    "    runningTotal = 0\n",
    "    count = len(listOfValues)\n",
    "    for x in listOfValues:   # Calc the average first\n",
    "        runningTotal = runningTotal + int(x)\n",
    "    xBar = runningTotal / count\n",
    "    deviationSum = 0\n",
    "    for x in listOfValues:  # then compute the squares of the deviations\n",
    "        deviationSum = deviationSum + ((x - xBar)**2)\n",
    "    u = deviationSum / (count - 1)\n",
    "    r = math.sqrt(u)\n",
    "    return r\n",
    "        \n",
    "    \n"
   ]
  },
  {
   "cell_type": "code",
   "execution_count": 103,
   "metadata": {},
   "outputs": [
    {
     "name": "stdout",
     "output_type": "stream",
     "text": [
      "77.1990932589237\n"
     ]
    }
   ],
   "source": [
    "# test case for deviationOfValues\n",
    "d = {'key1':2, 'a':23, 'b':44, 'c':11, 'd':189}\n",
    "result = deviationOfValues(d)\n",
    "print(result)"
   ]
  }
 ],
 "metadata": {
  "kernelspec": {
   "display_name": "Python 3",
   "language": "python",
   "name": "python3"
  },
  "language_info": {
   "codemirror_mode": {
    "name": "ipython",
    "version": 3
   },
   "file_extension": ".py",
   "mimetype": "text/x-python",
   "name": "python",
   "nbconvert_exporter": "python",
   "pygments_lexer": "ipython3",
   "version": "3.6.3"
  }
 },
 "nbformat": 4,
 "nbformat_minor": 2
}

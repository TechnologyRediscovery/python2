{
 "cells": [
  {
   "cell_type": "code",
   "execution_count": 2,
   "metadata": {
    "collapsed": true
   },
   "outputs": [],
   "source": [
    "# Exercise 1: Open and read from a file, printing its contents\n",
    "X, Y, Z = 43,66,112121\n",
    "s = \"sample string\"\n",
    "dictSample = {\"First\", \"Second\", \"Third\"}\n",
    "listSample = [23,22,13233]"
   ]
  },
  {
   "cell_type": "code",
   "execution_count": 4,
   "metadata": {
    "collapsed": true
   },
   "outputs": [],
   "source": [
    "f = open('sampleOut.txt', 'w')\n",
    "f.write(s + '\\n')\n",
    "f.write('%s,%s,%s' % (X, Y, Z))\n",
    "f.write(str(listSample) + \"$$\" + str(dictSample) + '\\n')\n",
    "f.close()"
   ]
  },
  {
   "cell_type": "code",
   "execution_count": 7,
   "metadata": {
    "collapsed": true
   },
   "outputs": [],
   "source": [
    "f = open('writeRanges', 'w')\n",
    "r1 = list(range(1, 10));\n",
    "f.write(str(r1))\n",
    "f.flush()\n",
    "f.close()"
   ]
  },
  {
   "cell_type": "code",
   "execution_count": 36,
   "metadata": {},
   "outputs": [],
   "source": [
    "# Exercise 1: printing pyramids\n",
    "f = open('writeRanges2.txt', 'w')\n",
    "n=10\n",
    "dec=10\n",
    "for item in list(range(0,n)):\n",
    "    for l in list(range(0,dec)):\n",
    "        f.write(str(l))\n",
    "    dec = dec -1\n",
    "    f.write('\\n')\n",
    "f.flush()\n",
    "f.close()"
   ]
  },
  {
   "cell_type": "code",
   "execution_count": null,
   "metadata": {
    "collapsed": true
   },
   "outputs": [],
   "source": [
    "# Exercise 2: printing inputted strings\n",
    "secondFile = open('stringFiles.txt', 'w')\n"
   ]
  }
 ],
 "metadata": {
  "kernelspec": {
   "display_name": "Python 3",
   "language": "python",
   "name": "python3"
  },
  "language_info": {
   "codemirror_mode": {
    "name": "ipython",
    "version": 3
   },
   "file_extension": ".py",
   "mimetype": "text/x-python",
   "name": "python",
   "nbconvert_exporter": "python",
   "pygments_lexer": "ipython3",
   "version": "3.6.3"
  }
 },
 "nbformat": 4,
 "nbformat_minor": 2
}

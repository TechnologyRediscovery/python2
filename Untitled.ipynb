{
 "cells": [
  {
   "cell_type": "code",
   "execution_count": 26,
   "metadata": {},
   "outputs": [
    {
     "name": "stdout",
     "output_type": "stream",
     "text": [
      "The Pythons Autobiography by The Pythons\n",
      "Learning Python\n",
      "Python\n",
      "The Greedy Python\n",
      "Think Python\n",
      "Python: Programming: Your Step By Step Guide To Easily Learn Python in 7 Days\n",
      "Programming Python\n",
      "Python for Data Analysis\n",
      "Learn Python The Hard Way\n",
      "Python for Kids\n",
      "Python Cookbook\n",
      "Python Machine Learning\n",
      "Monty Python Speaks!\n",
      "Dive Into Python\n",
      "Effective Python: 59 Specific Ways to Write Better Python\n",
      "Natural Language Processing with Python\n",
      "Python for Everybody: Exploring Data in Python 3\n",
      "Python for Informatics: Exploring Information\n",
      "Python Pocket Reference\n",
      "Python Cookbook\n"
     ]
    }
   ],
   "source": [
    "import urllib\n",
    "from bs4 import BeautifulSoup\n",
    "\n",
    "def generateSearchURL(s):\n",
    "    base = \"https://www.goodreads.com/search?q=\"\n",
    "    return base + s\n",
    "\n",
    "\n",
    "req = urllib.request.Request(p)\n",
    "with urllib.request.urlopen(req) as response:\n",
    "    the_page = response.read()\n",
    "soup = BeautifulSoup(the_page, 'html.parser')\n",
    "res = soup.find_all('a', 'bookTitle')\n",
    "for item in res:\n",
    "    t = item.find('span').string\n",
    "    print(t)"
   ]
  },
  {
   "cell_type": "code",
   "execution_count": 17,
   "metadata": {},
   "outputs": [
    {
     "name": "stdout",
     "output_type": "stream",
     "text": [
      "['\\n', <h3>Here's code I write for fun!</h3>, '\\n', <p class=\"code\">\n",
      "\t\t\t\tSystem.out.println(\"hello world\");\n",
      "\t\t\t</p>, '\\n', <a href=\"ericdarsow.com\">Visit my site</a>, '\\n', <p>\n",
      "\t\t\t\tThis is relaly advanced Java. I'm Super good at writing Java.\n",
      "\t\t\t</p>, '\\n']\n"
     ]
    }
   ],
   "source": [
    "from bs4 import BeautifulSoup\n",
    "fi = open('testScrape.html')\n",
    "htmlFile = fi.read()\n",
    "soup = BeautifulSoup(htmlFile, 'html.parser')\n",
    "res = soup.find('div', class_='listing')\n",
    "print(res.contents)"
   ]
  }
 ],
 "metadata": {
  "kernelspec": {
   "display_name": "Python 3",
   "language": "python",
   "name": "python3"
  },
  "language_info": {
   "codemirror_mode": {
    "name": "ipython",
    "version": 3
   },
   "file_extension": ".py",
   "mimetype": "text/x-python",
   "name": "python",
   "nbconvert_exporter": "python",
   "pygments_lexer": "ipython3",
   "version": "3.6.3"
  }
 },
 "nbformat": 4,
 "nbformat_minor": 2
}

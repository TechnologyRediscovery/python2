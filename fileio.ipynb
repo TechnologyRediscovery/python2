{
 "cells": [
  {
   "cell_type": "code",
   "execution_count": 12,
   "metadata": {},
   "outputs": [],
   "source": [
    "#opening a file for wrting\n",
    "newFile = open('myFirstFile.txt', 'w')\n",
    "hw = \"hello file world\"\n",
    "\n",
    "# casting an int to string\n",
    "anInt = 3\n",
    "asString = str(anInt)\n",
    "file.write(asString)\n",
    "\n",
    "# iterating over a range with a for() loop\n",
    "for item in list(range(0,101)):\n",
    "    newFile.write(hw + '\\n')\n",
    "\n",
    "#file housekeeping\n",
    "newFile.flush()\n",
    "newFile.close()"
   ]
  },
  {
   "cell_type": "code",
   "execution_count": 14,
   "metadata": {
    "collapsed": true
   },
   "outputs": [],
   "source": [
    "numRows = 1000\n",
    "contdownFrom = 1000\n",
    "newFile = open('mychallengefile.txt','w')\n",
    "\n",
    "for y in list(range (0,numRows)):\n",
    "    for x in list(range(0,contdownFrom)):\n",
    "        newFile.write(str(x))\n",
    "    contdownFrom = contdownFrom -1\n",
    "    newFile.write('\\n')\n",
    "\n",
    "newFile.flush()\n",
    "newFile.close()\n"
   ]
  }
 ],
 "metadata": {
  "kernelspec": {
   "display_name": "Python 3",
   "language": "python",
   "name": "python3"
  },
  "language_info": {
   "codemirror_mode": {
    "name": "ipython",
    "version": 3
   },
   "file_extension": ".py",
   "mimetype": "text/x-python",
   "name": "python",
   "nbconvert_exporter": "python",
   "pygments_lexer": "ipython3",
   "version": "3.6.3"
  }
 },
 "nbformat": 4,
 "nbformat_minor": 2
}

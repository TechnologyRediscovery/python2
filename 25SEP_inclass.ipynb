{
 "cells": [
  {
   "cell_type": "code",
   "execution_count": 2,
   "metadata": {},
   "outputs": [
    {
     "name": "stdout",
     "output_type": "stream",
     "text": [
      "Total white count on June 1816\n",
      "White percent: 0.376036866359447\n",
      "Total black count on June 11354\n",
      "Black percent: 0.623963133640553\n"
     ]
    }
   ],
   "source": [
    "# Question: Does the racial make up of the Allegheny county jail\n",
    "# reflect the makeup of Allegheny County at large on June 1, 2019?\n",
    "\n",
    "import csv\n",
    "file = open('jail_june2019.csv', newline='')\n",
    "reader = csv.DictReader(file)\n",
    "totBlack = 0\n",
    "totWhite = 0\n",
    "censusDate = '2019-06-01'\n",
    "# iterating over rows with these keys\n",
    "# Date,Gender,Race,Age at Booking,Current Age\n",
    "for row in reader:\n",
    "    if row['Date'] == censusDate:\n",
    "        if row['Race'] == 'B':\n",
    "            totBlack = totBlack + 1\n",
    "        elif row['Race'] == 'W':\n",
    "            totWhite = totWhite + 1\n",
    "file.close()\n",
    "\n",
    "print(\"Total white count on June 1\" + str(totWhite))\n",
    "percWhite = totWhite / (totBlack + totWhite)\n",
    "print(\"White percent: \" + str(percWhite))\n",
    "print(\"Total black count on June 1\" + str(totBlack))\n",
    "percBlack = totBlack / (totBlack + totWhite)\n",
    "print(\"Black percent: \" + str(percBlack))\n"
   ]
  },
  {
   "cell_type": "code",
   "execution_count": 9,
   "metadata": {},
   "outputs": [
    {
     "name": "stdout",
     "output_type": "stream",
     "text": [
      "[4, 3, 2, 1, 345676]\n"
     ]
    }
   ],
   "source": [
    "# JSON Practice\n",
    "import json\n",
    "\n",
    "# Simplest possible example of encoding python objects in JSON\n",
    "# and writing to file\n",
    "f = open('sampleJSONout.txt', 'w')\n",
    "f.write(json.dumps({'student-count':12, 'teacher-count':1}))\n",
    "f.close()\n",
    "\n",
    "# simplest possible example of reading in JSON into python objects\n",
    "jobj = json.loads('{\"numbers\":[4,3,2,1,345676], \"list of strings\":[\"first person\", \"second person\", \"fifth person\"]}')\n",
    "print(jobj['numbers'])"
   ]
  }
 ],
 "metadata": {
  "kernelspec": {
   "display_name": "Python 3",
   "language": "python",
   "name": "python3"
  },
  "language_info": {
   "codemirror_mode": {
    "name": "ipython",
    "version": 3
   },
   "file_extension": ".py",
   "mimetype": "text/x-python",
   "name": "python",
   "nbconvert_exporter": "python",
   "pygments_lexer": "ipython3",
   "version": "3.6.3"
  }
 },
 "nbformat": 4,
 "nbformat_minor": 2
}

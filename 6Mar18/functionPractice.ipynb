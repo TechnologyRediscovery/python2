{
 "cells": [
  {
   "cell_type": "code",
   "execution_count": 108,
   "metadata": {},
   "outputs": [
    {
     "name": "stdout",
     "output_type": "stream",
     "text": [
      "Unit Quality Simulator\n",
      "Normal dist with a mean of 3 and SD of 1\n",
      "Number of tests to perform:10000\n",
      "Minimum allowed quality score:3\n",
      "********************************\n",
      "Testing Results:\n",
      "Total Tests: 10001\n",
      "Failures: 5039\n",
      "Failure percentage: 50.38496150384961%\n"
     ]
    }
   ],
   "source": [
    "from random import normalvariate\n",
    "print(\"Unit Quality Simulator\")\n",
    "print(\"Normal dist with a mean of 3 and SD of 1\")\n",
    "\n",
    "numTests = int(input(\"Number of tests to perform:\"))\n",
    "threshold = float(input(\"Minimum allowed quality score:\"))\n",
    "print(\"********************************\")\n",
    "\n",
    "totalFailures = 0;\n",
    "totalTests = 0;\n",
    "\n",
    "for i in list(range(0,numTests + 1)):\n",
    "    q = getRandomUnitValue()\n",
    "    if(q < threshold):\n",
    "        totalFailures = totalFailures + 1\n",
    "    totalTests = totalTests + 1\n",
    "\n",
    "print(\"Testing Results:\")\n",
    "print(\"Total Tests: \" + str(totalTests))\n",
    "print(\"Failures: \" + str(totalFailures))\n",
    "fperc = (totalFailures/totalTests)*100\n",
    "print(\"Failure percentage: \" + str(fperc) + \"%\")\n",
    "\n",
    "    \n",
    "\n",
    "\n"
   ]
  },
  {
   "cell_type": "code",
   "execution_count": 98,
   "metadata": {
    "collapsed": true
   },
   "outputs": [],
   "source": [
    "def getRandomUnitValue():\n",
    "    r = normalvariate(3,1)\n",
    "    return r\n",
    "    "
   ]
  }
 ],
 "metadata": {
  "kernelspec": {
   "display_name": "Python 3",
   "language": "python",
   "name": "python3"
  },
  "language_info": {
   "codemirror_mode": {
    "name": "ipython",
    "version": 3
   },
   "file_extension": ".py",
   "mimetype": "text/x-python",
   "name": "python",
   "nbconvert_exporter": "python",
   "pygments_lexer": "ipython3",
   "version": "3.6.3"
  }
 },
 "nbformat": 4,
 "nbformat_minor": 2
}

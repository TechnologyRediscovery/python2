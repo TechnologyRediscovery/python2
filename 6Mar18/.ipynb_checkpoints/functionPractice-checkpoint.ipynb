{
 "cells": [
  {
   "cell_type": "code",
   "execution_count": 105,
   "metadata": {},
   "outputs": [
    {
     "name": "stdout",
     "output_type": "stream",
     "text": [
      "Unit Quality Simulator\n",
      "Normal dist with a mean of 3 and SD of 1\n",
      "Number of tests to perform:10000\n",
      "Minimum allowed quality score:2.2\n"
     ]
    },
    {
     "ename": "ValueError",
     "evalue": "invalid literal for int() with base 10: '2.2'",
     "output_type": "error",
     "traceback": [
      "\u001b[0;31m---------------------------------------------------------------------------\u001b[0m",
      "\u001b[0;31mValueError\u001b[0m                                Traceback (most recent call last)",
      "\u001b[0;32m<ipython-input-105-b12df18527e3>\u001b[0m in \u001b[0;36m<module>\u001b[0;34m()\u001b[0m\n\u001b[1;32m      4\u001b[0m \u001b[0;34m\u001b[0m\u001b[0m\n\u001b[1;32m      5\u001b[0m \u001b[0mnumTests\u001b[0m \u001b[0;34m=\u001b[0m \u001b[0mint\u001b[0m\u001b[0;34m(\u001b[0m\u001b[0minput\u001b[0m\u001b[0;34m(\u001b[0m\u001b[0;34m\"Number of tests to perform:\"\u001b[0m\u001b[0;34m)\u001b[0m\u001b[0;34m)\u001b[0m\u001b[0;34m\u001b[0m\u001b[0m\n\u001b[0;32m----> 6\u001b[0;31m \u001b[0mthreshold\u001b[0m \u001b[0;34m=\u001b[0m \u001b[0mint\u001b[0m\u001b[0;34m(\u001b[0m\u001b[0minput\u001b[0m\u001b[0;34m(\u001b[0m\u001b[0;34m\"Minimum allowed quality score:\"\u001b[0m\u001b[0;34m)\u001b[0m\u001b[0;34m)\u001b[0m\u001b[0;34m\u001b[0m\u001b[0m\n\u001b[0m\u001b[1;32m      7\u001b[0m \u001b[0mprint\u001b[0m\u001b[0;34m(\u001b[0m\u001b[0;34m\"********************************\"\u001b[0m\u001b[0;34m)\u001b[0m\u001b[0;34m\u001b[0m\u001b[0m\n\u001b[1;32m      8\u001b[0m \u001b[0;34m\u001b[0m\u001b[0m\n",
      "\u001b[0;31mValueError\u001b[0m: invalid literal for int() with base 10: '2.2'"
     ]
    }
   ],
   "source": [
    "from random import normalvariate\n",
    "print(\"Unit Quality Simulator\")\n",
    "print(\"Normal dist with a mean of 3 and SD of 1\")\n",
    "\n",
    "numTests = int(input(\"Number of tests to perform:\"))\n",
    "threshold = float(input(\"Minimum allowed quality score:\"))\n",
    "print(\"********************************\")\n",
    "\n",
    "totalFailures = 0;\n",
    "totalTests = 0;\n",
    "\n",
    "for i in list(range(0,numTests + 1)):\n",
    "    q = getRandomUnitValue()\n",
    "    if(q < threshold):\n",
    "        totalFailures = totalFailures + 1\n",
    "    totalTests = totalTests + 1\n",
    "\n",
    "print(\"Testing Results:\")\n",
    "print(\"Total Tests: \" + str(totalTests))\n",
    "print(\"Failures: \" + str(totalFailures))\n",
    "fperc = (totalFailures/totalTests)*100\n",
    "print(\"Failure percentage: \" + str(fperc) + \"%\")\n",
    "\n",
    "    \n",
    "\n",
    "\n"
   ]
  },
  {
   "cell_type": "code",
   "execution_count": 98,
   "metadata": {
    "collapsed": true
   },
   "outputs": [],
   "source": [
    "def getRandomUnitValue():\n",
    "    r = normalvariate(3,1)\n",
    "    return r\n",
    "    "
   ]
  }
 ],
 "metadata": {
  "kernelspec": {
   "display_name": "Python 3",
   "language": "python",
   "name": "python3"
  },
  "language_info": {
   "codemirror_mode": {
    "name": "ipython",
    "version": 3
   },
   "file_extension": ".py",
   "mimetype": "text/x-python",
   "name": "python",
   "nbconvert_exporter": "python",
   "pygments_lexer": "ipython3",
   "version": "3.6.3"
  }
 },
 "nbformat": 4,
 "nbformat_minor": 2
}

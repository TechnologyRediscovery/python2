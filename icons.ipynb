{
 "cells": [
  {
   "cell_type": "code",
   "execution_count": null,
   "metadata": {
    "collapsed": true
   },
   "outputs": [],
   "source": [
    "def createInternalIconRepresentation(hundredcharstring):\n",
    "    \"\"\"\n",
    "    Reads in a single string of 100 characters for conversion.\n",
    "    \n",
    "    \n",
    "    Detail: parses the string into a list of 10 lists, one for each line\n",
    "    \n",
    "    \"\"\"\n",
    "    \n",
    "    \n",
    "def writeSingleLineToScreen(lineinstruction, scalevalue):\n",
    "    \"\"\"\n",
    "    A line is defined as a list of 10 boolean values\n",
    "    \"\"\"\n",
    "    \n",
    "def main:\n",
    "    writeSingleLineToScreen([True,False,True,False], 4)"
   ]
  }
 ],
 "metadata": {
  "kernelspec": {
   "display_name": "Python 3",
   "language": "python",
   "name": "python3"
  },
  "language_info": {
   "codemirror_mode": {
    "name": "ipython",
    "version": 3
   },
   "file_extension": ".py",
   "mimetype": "text/x-python",
   "name": "python",
   "nbconvert_exporter": "python",
   "pygments_lexer": "ipython3",
   "version": "3.6.3"
  }
 },
 "nbformat": 4,
 "nbformat_minor": 2
}

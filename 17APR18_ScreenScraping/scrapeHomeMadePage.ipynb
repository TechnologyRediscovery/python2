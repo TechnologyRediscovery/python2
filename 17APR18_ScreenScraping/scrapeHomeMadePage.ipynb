{
 "cells": [
  {
   "cell_type": "code",
   "execution_count": 18,
   "metadata": {},
   "outputs": [
    {
     "name": "stdout",
     "output_type": "stream",
     "text": [
      "\n",
      "\t\t\t\tSystem.out.println(\"hello world\");\n",
      "\t\t\t\n"
     ]
    }
   ],
   "source": [
    "from bs4 import BeautifulSoup\n",
    "f = open('testScrape.html')\n",
    "htmlFile = f.read()\n",
    "soup = BeautifulSoup(htmlFile, 'html.parser')\n",
    "## finally extract the text within the p tag with a class of \"code\"\n",
    "print(soup.find('p', class_='code').string)"
   ]
  }
 ],
 "metadata": {
  "kernelspec": {
   "display_name": "Python 3",
   "language": "python",
   "name": "python3"
  },
  "language_info": {
   "codemirror_mode": {
    "name": "ipython",
    "version": 3
   },
   "file_extension": ".py",
   "mimetype": "text/x-python",
   "name": "python",
   "nbconvert_exporter": "python",
   "pygments_lexer": "ipython3",
   "version": "3.6.3"
  }
 },
 "nbformat": 4,
 "nbformat_minor": 2
}

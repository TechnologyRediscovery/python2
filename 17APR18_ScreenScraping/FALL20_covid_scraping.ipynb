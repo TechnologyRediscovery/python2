{
 "cells": [
  {
   "cell_type": "code",
   "execution_count": 16,
   "metadata": {},
   "outputs": [
    {
     "name": "stdout",
     "output_type": "stream",
     "text": [
      "Often built into industrial buildings for moving loads on an x-y plane projected on a workshop floor\n",
      "{'id': 'htruss', 'class': ['descr', 'comment']}\n"
     ]
    }
   ],
   "source": [
    "# import beautiful soup module\n",
    "from bs4 import BeautifulSoup\n",
    "# open a local HTML file to send to BS4 to make soup\n",
    "with open('cranes.html') as file:\n",
    "    html = file.read()\n",
    "#     print(html)\n",
    "    # use BeautifulSoup's constructor and give it the HTML text\n",
    "    soup = BeautifulSoup(html, 'html.parser')\n",
    "    # grab an element by ID\n",
    "    truss = soup.find(id='htruss')\n",
    "    print(truss.text)\n",
    "    print(truss.attrs)\n",
    "\n"
   ]
  },
  {
   "cell_type": "code",
   "execution_count": 18,
   "metadata": {},
   "outputs": [
    {
     "name": "stdout",
     "output_type": "stream",
     "text": [
      "DARSOW ERIC     \n"
     ]
    }
   ],
   "source": [
    "import requests\n",
    "# first make a string with the URL\n",
    "url = 'http://www2.alleghenycounty.us/RealEstate/GeneralInfo.aspx?ParcelID=0178H00033000000&SearchType=2&SearchStreet=S%20BRADDOCK&SearchNum=2209&SearchMuni=854'\n",
    "# go to The Internet and fetch a resource by URL\n",
    "response = requests.get(url)\n",
    "soup = BeautifulSoup(response.text, 'html.parser')\n",
    "ownername = soup.find('span', id='BasicInfo1_lblOwner')\n",
    "print(ownername.text)\n"
   ]
  },
  {
   "cell_type": "code",
   "execution_count": 22,
   "metadata": {},
   "outputs": [
    {
     "name": "stdout",
     "output_type": "stream",
     "text": [
      "35\n",
      "25\n",
      "--\n",
      "0.8\n",
      "31\n",
      "29\n",
      "4.0\n",
      "-0.6\n",
      "28\n",
      "32\n",
      "7.0\n",
      "-0.1\n",
      "26\n",
      "34\n",
      "9.0\n",
      "-0.3\n",
      "26\n",
      "34\n",
      "9.0\n",
      "-0.2\n",
      "34\n",
      "26\n",
      "--\n",
      "0.3\n",
      "31\n",
      "29\n",
      "3.0\n",
      "-0.2\n",
      "30\n",
      "28\n",
      "3.0\n",
      "0.0\n",
      "29\n",
      "31\n",
      "5.0\n",
      "-0.4\n",
      "19\n",
      "41\n",
      "15.0\n",
      "-1.2\n",
      "43\n",
      "17\n",
      "--\n",
      "2.2\n",
      "37\n",
      "23\n",
      "6.0\n",
      "1.4\n",
      "29\n",
      "31\n",
      "14.0\n",
      "0.3\n",
      "26\n",
      "34\n",
      "17.0\n",
      "-0.9\n",
      "25\n",
      "35\n",
      "18.0\n",
      "-0.1\n"
     ]
    }
   ],
   "source": [
    "# Baseball reference table scraping\n",
    "url = 'https://www.baseball-reference.com/'\n",
    "res = requests.get(url)\n",
    "soup = BeautifulSoup(res.text, 'html.parser')\n",
    "standings_table = soup.find('table', id='standings_NL')\n",
    "# print(standings_table)\n",
    "rows = standings_table.findAll('tr')\n",
    "for r in rows:\n",
    "    tds = r.findAll('td')\n",
    "    for td in tds:\n",
    "        print(td.text)"
   ]
  }
 ],
 "metadata": {
  "kernelspec": {
   "display_name": "Python 3",
   "language": "python",
   "name": "python3"
  },
  "language_info": {
   "codemirror_mode": {
    "name": "ipython",
    "version": 3
   },
   "file_extension": ".py",
   "mimetype": "text/x-python",
   "name": "python",
   "nbconvert_exporter": "python",
   "pygments_lexer": "ipython3",
   "version": "3.8.3"
  }
 },
 "nbformat": 4,
 "nbformat_minor": 4
}

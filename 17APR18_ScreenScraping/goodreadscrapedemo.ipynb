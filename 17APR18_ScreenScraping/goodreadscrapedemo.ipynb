{
 "cells": [
  {
   "cell_type": "code",
   "execution_count": 8,
   "metadata": {
    "collapsed": true
   },
   "outputs": [],
   "source": [
    "'''\n",
    "    Goodread.com scraping\n",
    "    \n",
    "    QUESTION: What percent of python books have subtitles?\n",
    "    \n",
    "    Scraping demo for DAT-129\n",
    "    Before scraping a page, check:\n",
    "        1) Are the URLs encoded in a sensible way that we can use\n",
    "        the urllib to grab the HTML page easily?\n",
    "        2) Are the elements on the page we want to scrape enclosed\n",
    "        in HTML tags with distinctive class names or tag names?\n",
    "'''\n",
    "import urllib.request\n",
    "from bs4 import BeautifulSoup\n",
    "\n",
    "def getSearchURL(term):\n",
    "    '''\n",
    "        assembles a query against goodreads.com given a search term\n",
    "    '''\n",
    "    url = \"https://www.goodreads.com/search?q=%s&search_type=books\" % (str(term)) \n",
    "    return url\n",
    "\n",
    "def getPageText(url):\n",
    "    '''\n",
    "        Given a URL, fetches the raw HTML from the interwebs\n",
    "    '''\n",
    "    # build the request object from the given URL\n",
    "    req = urllib.request.Request(url)\n",
    "    # acess the network via computer's standard gateway\n",
    "    # to actually retrieve the HTML from goodreads.com server\n",
    "    with urllib.request.urlopen(req) as response:\n",
    "        return response.read()\n"
   ]
  },
  {
   "cell_type": "code",
   "execution_count": 24,
   "metadata": {},
   "outputs": [
    {
     "name": "stdout",
     "output_type": "stream",
     "text": [
      "\n",
      "//<![CDATA[\n",
      "\n",
      "  current_tabs[562202409] = 'books';\n",
      "\n",
      "  Event.observe(window, 'load', function(e) {\n",
      "    // Switch to an anchored tab if specified in the URL\n",
      "    if (location.href.include('#')) {\n",
      "      var tabID = location.href.split('#')[1];\n",
      "      if (tabID != '' && $(tabID)) {\n",
      "        changeTab(tabID)\n",
      "      }\n",
      "    }\n",
      "  })\n",
      "//]]>\n",
      "\n"
     ]
    }
   ],
   "source": [
    "term = \"virus\"\n",
    "url = getSearchURL(term)\n",
    "pageText = getPageText(url)\n",
    "# Make that beautiful soup: pass in our raw HTML and the name\n",
    "# of our desired parser\n",
    "soup = BeautifulSoup(pageText, 'html.parser')\n",
    "sib = soup.find('div', 'tabs').next_sibling\n",
    "print(sib.string)\n"
   ]
  },
  {
   "cell_type": "code",
   "execution_count": 10,
   "metadata": {},
   "outputs": [
    {
     "name": "stdout",
     "output_type": "stream",
     "text": [
      "The Hot Zone: The Terrifying True Story of the Origins of the Ebola Virus\n",
      "Virus Hunter: Thirty Years of Battling Hot Viruses Around the World\n",
      "Virus X\n",
      "A Planet of Viruses\n",
      "The Panic Virus: A True Story of Medicine, Science, and Fear\n",
      "Rabid: A Cultural History of the World's Most Diabolical Virus\n",
      "After The Virus\n",
      "The Virus\n",
      "The Reaper Virus (The Reaper Virus, #1)\n",
      "Level 4: Virus Hunters of the CDC\n",
      "Ghost Virus\n",
      "Viruses, Plagues and History\n",
      "The Villain Virus (NERDS, #4)\n",
      "Virus tropical\n",
      "The Laptev Virus\n",
      "Hot Zone (The Zulu Virus Chronicles #1)\n",
      "Concealed (Virus #1)\n",
      "Phobia (The Agora Virus, #1)\n",
      "Black Virus (Black Rust #0.5)\n",
      "The Road Virus Heads North\n",
      "Total titles:  20\n",
      "25.0 % of books have subtitles\n"
     ]
    }
   ],
   "source": [
    "term = \"virus\"\n",
    "url = getSearchURL(term)\n",
    "pageText = getPageText(url)\n",
    "# Make that beautiful soup: pass in our raw HTML and the name\n",
    "# of our desired parser\n",
    "soup = BeautifulSoup(pageText, 'html.parser')\n",
    "# we have our soup, which we can extract components of\n",
    "# with specific calls to find or find_all\n",
    "# we are grabbing <a> tags of class bookTitle\n",
    "bookatags = soup.find_all('a', 'bookTitle')\n",
    "totalTitles = 0\n",
    "subTitles = 0\n",
    "# bookatags is iterable and contains all the mini-trees\n",
    "# whose parent is <a> tag of class bookTitle\n",
    "for book in bookatags:\n",
    "    # use find() to grab the <span> inside the <a> and extract\n",
    "    # the text inside the <span> ... </span> with .string\n",
    "    title = book.find('span').string\n",
    "    print(title)\n",
    "    totalTitles = totalTitles + 1\n",
    "    if \":\" in title:\n",
    "        subTitles = subTitles + 1\n",
    "\n",
    "print(\"Total titles: \", str(totalTitles))\n",
    "subts = (subTitles/totalTitles)*100\n",
    "print(str(subts), \"% of books have subtitles\")\n",
    "\n",
    "\n"
   ]
  }
 ],
 "metadata": {
  "kernelspec": {
   "display_name": "Python 3",
   "language": "python",
   "name": "python3"
  },
  "language_info": {
   "codemirror_mode": {
    "name": "ipython",
    "version": 3
   },
   "file_extension": ".py",
   "mimetype": "text/x-python",
   "name": "python",
   "nbconvert_exporter": "python",
   "pygments_lexer": "ipython3",
   "version": "3.6.3"
  }
 },
 "nbformat": 4,
 "nbformat_minor": 2
}

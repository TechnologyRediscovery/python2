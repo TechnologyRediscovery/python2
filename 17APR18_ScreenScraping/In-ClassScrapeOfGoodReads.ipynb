{
 "cells": [
  {
   "cell_type": "code",
   "execution_count": 1,
   "metadata": {
    "collapsed": true
   },
   "outputs": [],
   "source": [
    "import urllib\n",
    "from bs4 import BeautifulSoup\n",
    "\n",
    "# go the the net and get the HTML from the page linked at\n",
    "# https://www.goodreads.com/search?utf8=%E2%9C%93&query=python\n",
    "\n",
    "def getSearchURL(term):\n",
    "    url = 'https://www.goodreads.com/search?query=%s' % (str(term))\n",
    "    return url\n",
    "\n",
    "def getPageText(url):\n",
    "    req = urllib.request.Request(url)\n",
    "    with urllib.request.urlopen(req) as response:\n",
    "        return response.read()"
   ]
  },
  {
   "cell_type": "code",
   "execution_count": 3,
   "metadata": {},
   "outputs": [
    {
     "name": "stdout",
     "output_type": "stream",
     "text": [
      "The Pythons Autobiography by The Pythons\n",
      "Learning Python\n",
      "Think Python\n",
      "Python Cookbook\n",
      "Python for Data Analysis\n",
      "Programming Python\n",
      "Python Tricks\n",
      "Python\n",
      "The Greedy Python\n",
      "Python: Programming: Your Step By Step Guide To Easily Learn Python in 7 Days\n",
      "Python Machine Learning\n",
      "Python for Everybody: Exploring Data in Python 3\n",
      "Python Programming for Beginners: An Introduction to the Python Computer Language and Computer Programming (Python, Python 3, Python Tutorial)\n",
      "Python: 3 Manuscripts in 1 book: - Python Programming For Beginners - Python Programming For Intermediates - Python Programming for Advanced\n",
      "Black Hat Python: Python Programming for Hackers and Pentesters\n",
      "Effective Python: 59 Specific Ways to Write Better Python\n",
      "Monty Python Speaks!\n",
      "Learn Python The Hard Way\n",
      "Python for Kids\n",
      "Python Pocket Reference\n",
      "********SUMMARY**********\n",
      "Total Titles:  20\n",
      "30.0 % of Titles have subtitles\n"
     ]
    }
   ],
   "source": [
    "pageText = getPageText(getSearchURL('python'))\n",
    "soup = BeautifulSoup(pageText, 'html.parser')\n",
    "s = soup.find_all('a','bookTitle')\n",
    "totalTitles = 0\n",
    "subTitles = 0\n",
    "\n",
    "for item in s:\n",
    "    t = item.find('span').string\n",
    "    print(t)\n",
    "    totalTitles = totalTitles + 1\n",
    "    if \":\" in t:\n",
    "        subTitles = subTitles + 1\n",
    "print(\"********SUMMARY**********\")\n",
    "print(\"Total Titles: \", str(totalTitles))\n",
    "print(str((subTitles/totalTitles)*100),\"% of Titles have subtitles\")"
   ]
  }
 ],
 "metadata": {
  "kernelspec": {
   "display_name": "Python 3",
   "language": "python",
   "name": "python3"
  },
  "language_info": {
   "codemirror_mode": {
    "name": "ipython",
    "version": 3
   },
   "file_extension": ".py",
   "mimetype": "text/x-python",
   "name": "python",
   "nbconvert_exporter": "python",
   "pygments_lexer": "ipython3",
   "version": "3.6.3"
  }
 },
 "nbformat": 4,
 "nbformat_minor": 2
}

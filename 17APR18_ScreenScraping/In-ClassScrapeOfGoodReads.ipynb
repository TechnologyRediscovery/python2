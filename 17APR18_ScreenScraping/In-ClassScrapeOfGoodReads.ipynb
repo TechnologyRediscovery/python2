{
 "cells": [
  {
   "cell_type": "code",
   "execution_count": 8,
   "metadata": {},
   "outputs": [],
   "source": [
    "import urllib\n",
    "from bs4 import BeautifulSoup\n",
    "\n",
    "# go the the net and get the HTML from the page linked at\n",
    "# https://www.goodreads.com/search?utf8=%E2%9C%93&query=python\n",
    "\n",
    "def getSearchURL(term):\n",
    "    url = 'https://www.goodreads.com/search?query=%s' % (str(term))\n",
    "    return url\n",
    "\n",
    "def getPageText(url):\n",
    "    req = urllib.request.Request(url)\n",
    "    with urllib.request.urlopen(req) as response:\n",
    "        return response.read()\n",
    "        \n",
    "\n",
    "\n"
   ]
  },
  {
   "cell_type": "code",
   "execution_count": 35,
   "metadata": {},
   "outputs": [
    {
     "name": "stdout",
     "output_type": "stream",
     "text": [
      "The Pythons Autobiography by The Pythons\n"
     ]
    }
   ],
   "source": [
    "pageText = getPageText(getSearchURL('python'))\n",
    "soup = BeautifulSoup(pageText, 'html.parser')\n",
    "print(soup.find('a', class_=\"bookTitle\").contents[1].text)\n",
    "\n",
    "# for i in soup.find_all('span', itemprop='name'):\n",
    "#     print(i.text)"
   ]
  }
 ],
 "metadata": {
  "kernelspec": {
   "display_name": "Python 3",
   "language": "python",
   "name": "python3"
  },
  "language_info": {
   "codemirror_mode": {
    "name": "ipython",
    "version": 3
   },
   "file_extension": ".py",
   "mimetype": "text/x-python",
   "name": "python",
   "nbconvert_exporter": "python",
   "pygments_lexer": "ipython3",
   "version": "3.6.3"
  }
 },
 "nbformat": 4,
 "nbformat_minor": 2
}

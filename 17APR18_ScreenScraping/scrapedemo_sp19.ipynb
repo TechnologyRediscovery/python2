{
 "cells": [
  {
   "cell_type": "code",
   "execution_count": 1,
   "metadata": {},
   "outputs": [
    {
     "name": "stdout",
     "output_type": "stream",
     "text": [
      "Resources\n",
      "Investigation questions\n",
      "This is a poorly designed section header :( \n"
     ]
    }
   ],
   "source": [
    "from bs4 import BeautifulSoup\n",
    "file = open('apiwebdemo.html')\n",
    "html = file.read()\n",
    "soup = BeautifulSoup(html, 'html.parser')\n",
    "l = soup.findAll(class_='secheader')\n",
    "for item in l:\n",
    "    print(item.text)"
   ]
  },
  {
   "cell_type": "code",
   "execution_count": 2,
   "metadata": {},
   "outputs": [
    {
     "name": "stdout",
     "output_type": "stream",
     "text": [
      "DARSOW ERIC     \n"
     ]
    }
   ],
   "source": [
    "# scraping owner name from a alleghney county property record database page\n",
    "import requests\n",
    "url = 'http://www2.county.allegheny.pa.us/RealEstate/GeneralInfo.aspx?ParcelID=0178H00033000000&SearchType=2&SearchStreet=S%20BRADDOCK&SearchNum=2209&SearchMuni=854'\n",
    "response = requests.get(url)\n",
    "soup = BeautifulSoup(response.text, 'html.parser')\n",
    "ele = soup.find('span', id='BasicInfo1_lblOwner')\n",
    "print(ele.text)"
   ]
  }
 ],
 "metadata": {
  "kernelspec": {
   "display_name": "Python 3",
   "language": "python",
   "name": "python3"
  },
  "language_info": {
   "codemirror_mode": {
    "name": "ipython",
    "version": 3
   },
   "file_extension": ".py",
   "mimetype": "text/x-python",
   "name": "python",
   "nbconvert_exporter": "python",
   "pygments_lexer": "ipython3",
   "version": "3.6.3"
  }
 },
 "nbformat": 4,
 "nbformat_minor": 2
}

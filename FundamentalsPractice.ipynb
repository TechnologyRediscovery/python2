{
 "cells": [
  {
   "cell_type": "code",
   "execution_count": 5,
   "metadata": {},
   "outputs": [
    {
     "name": "stdout",
     "output_type": "stream",
     "text": [
      "you are being sung to, gerry\n"
     ]
    }
   ],
   "source": [
    "import os as os;\n",
    "def main():\n",
    "    print(\"happy birthday\")\n",
    "def singToAnybody(personName):\n",
    "    print(\"you are being sung to, \" + personName)\n",
    "\n",
    "singToAnybody(\"gerry\")\n",
    "\n",
    "    "
   ]
  },
  {
   "cell_type": "code",
   "execution_count": 14,
   "metadata": {},
   "outputs": [
    {
     "name": "stdout",
     "output_type": "stream",
     "text": [
      "5\n",
      "enter a number23\n",
      "<class 'str'>\n",
      "23 never!\n"
     ]
    }
   ],
   "source": [
    "def basicMathFun(num1, num2, num3):\n",
    "    r1 = num1 * num2\n",
    "    r2 = r1 + num3\n",
    "    return r2\n",
    "\n",
    "print(basicMathFun(1,2,3))\n",
    "dir()\n",
    "\n",
    "inputFromUser = input(\"enter a number\")\n",
    "\n",
    "print(processUserInput(inputFromUser))\n",
    "\n",
    "def processUserInput(i):\n",
    "    n = i + \" never!\"\n",
    "    print(type(n))\n",
    "    type(n)\n",
    "    return n\n",
    "\n"
   ]
  },
  {
   "cell_type": "code",
   "execution_count": 21,
   "metadata": {},
   "outputs": [
    {
     "name": "stdout",
     "output_type": "stream",
     "text": [
      "[0, 1, 2, 3, 4, 5, 6, 7, 8, 9]\n"
     ]
    },
    {
     "ename": "SyntaxError",
     "evalue": "'return' outside function (<ipython-input-21-bd14d677e73e>, line 5)",
     "output_type": "error",
     "traceback": [
      "\u001b[0;36m  File \u001b[0;32m\"<ipython-input-21-bd14d677e73e>\"\u001b[0;36m, line \u001b[0;32m5\u001b[0m\n\u001b[0;31m    return\u001b[0m\n\u001b[0m    ^\u001b[0m\n\u001b[0;31mSyntaxError\u001b[0m\u001b[0;31m:\u001b[0m 'return' outside function\n"
     ]
    }
   ],
   "source": [
    "firstList = list(range(10))\n",
    "print(firstList)\n",
    "for x in firstList:\n",
    "    sum = sum + x\n",
    "    return"
   ]
  },
  {
   "cell_type": "code",
   "execution_count": 3,
   "metadata": {},
   "outputs": [
    {
     "name": "stdout",
     "output_type": "stream",
     "text": [
      "Total whites on Jan 1: 863\n",
      "Total blacks on Jan 1: 1478\n"
     ]
    }
   ],
   "source": [
    "import csv\n",
    "file = open('jail.csv', newline='')\n",
    "reader = csv.DictReader(file)\n",
    "totBlack = 0\n",
    "totWhite = 0\n",
    "raceCount = {'white':totWhite, 'black':totBlack}\n",
    "\n",
    "for row in reader:\n",
    "    if row['date'] == '2018-01-01':\n",
    "        if row['race'] == 'B':\n",
    "            totBlack = totBlack + 1u\n",
    "        elif row['race'] == 'W':\n",
    "            totWhite = totWhite + 1\n",
    "file.close()\n",
    "print(\"Total whites on Jan 1: \" + str(totWhite))\n",
    "print(\"Total blacks on Jan 1: \" + str(totBlack))\n",
    "\n"
   ]
  },
  {
   "cell_type": "code",
   "execution_count": 2,
   "metadata": {
    "collapsed": true
   },
   "outputs": [],
   "source": [
    "with open('jailSum.txt', 'w', newline='') as file2:\n",
    "    writer = csv.writer(file2, )\n",
    "    writer.writerow(\"Total blacks: \" + str(totBlack))\n",
    "    writer.writerow(\"Total Whites: \" + str(totWhite))"
   ]
  }
 ],
 "metadata": {
  "kernelspec": {
   "display_name": "Python 3",
   "language": "python",
   "name": "python3"
  },
  "language_info": {
   "codemirror_mode": {
    "name": "ipython",
    "version": 3
   },
   "file_extension": ".py",
   "mimetype": "text/x-python",
   "name": "python",
   "nbconvert_exporter": "python",
   "pygments_lexer": "ipython3",
   "version": "3.6.3"
  }
 },
 "nbformat": 4,
 "nbformat_minor": 2
}

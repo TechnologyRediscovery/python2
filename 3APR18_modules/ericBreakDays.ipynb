{
 "cells": [
  {
   "cell_type": "code",
   "execution_count": 28,
   "metadata": {
    "scrolled": true
   },
   "outputs": [],
   "source": [
    "def getEricsActivtyByDayOfWeek(day):\n",
    "    ''' Return the activity Eric did over the break by inputting the day of the week'''\n",
    "    ericsBreakActivities = {\n",
    "        \"monday\":\"Java javaing in the COG\",\n",
    "        \"tuesday\":\"Java javaing in COG\",\n",
    "        \"wednesday\":\"Prepping the big java rollout\",\n",
    "        \"thursday\":\"Big meeting with COG staff - Database success!\",\n",
    "        \"friday\":\"Began the spring cleaning project\",\n",
    "        \"saturday\":\"Stalled and avoided doing school work\",\n",
    "        \"sunday\":\"Student engagement application: The Forestry Technology Project\"\n",
    "    }\n",
    "    \n",
    "    # exception handling approach 1\n",
    "    if not day in ericsBreakActivities:\n",
    "        return \"day not found\"\n",
    "    else:\n",
    "        return ericsBreakActivities[day]\n",
    "    \n",
    "    # exception handling approach 2\n",
    "    try:\n",
    "        act = ericsBreakActivities[day]\n",
    "        # try line 2\n",
    "        # try line 3\n",
    "    except:\n",
    "        return \"day not found from exception\"\n",
    "    return act\n",
    "    "
   ]
  },
  {
   "cell_type": "code",
   "execution_count": 29,
   "metadata": {},
   "outputs": [
    {
     "name": "stdout",
     "output_type": "stream",
     "text": [
      "day not found\n"
     ]
    }
   ],
   "source": [
    "print(getEricsActivtyByDayOfWeek(\"\"))"
   ]
  }
 ],
 "metadata": {
  "kernelspec": {
   "display_name": "Python 3",
   "language": "python",
   "name": "python3"
  },
  "language_info": {
   "codemirror_mode": {
    "name": "ipython",
    "version": 3
   },
   "file_extension": ".py",
   "mimetype": "text/x-python",
   "name": "python",
   "nbconvert_exporter": "python",
   "pygments_lexer": "ipython3",
   "version": "3.6.3"
  }
 },
 "nbformat": 4,
 "nbformat_minor": 2
}

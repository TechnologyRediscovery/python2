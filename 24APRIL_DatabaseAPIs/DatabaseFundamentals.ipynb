{
 "cells": [
  {
   "cell_type": "code",
   "execution_count": 16,
   "metadata": {},
   "outputs": [
    {
     "name": "stdout",
     "output_type": "stream",
     "text": [
      "[('clearance', 2)]\n"
     ]
    }
   ],
   "source": [
    "import mysql.connector\n",
    "\n",
    "cnx = mysql.connector.connect(user='root', password='ch665934',\n",
    "                             host='localhost', database='testdb')\n",
    "cursor = cnx.cursor();\n",
    "q = (\"SELECT * FROM python\")\n",
    "cursor.execute(q)\n",
    "allRows = cursor.fetchall();\n",
    "print(allRows)\n",
    "\n",
    "cursor.close()\n",
    "cnx.close()"
   ]
  }
 ],
 "metadata": {
  "kernelspec": {
   "display_name": "Python 3",
   "language": "python",
   "name": "python3"
  }
 },
 "nbformat": 4,
 "nbformat_minor": 2
}

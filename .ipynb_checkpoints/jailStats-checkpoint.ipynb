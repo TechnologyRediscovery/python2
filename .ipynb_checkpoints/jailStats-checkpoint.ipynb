{
 "cells": [
  {
   "cell_type": "code",
   "execution_count": 3,
   "metadata": {},
   "outputs": [
    {
     "name": "stdout",
     "output_type": "stream",
     "text": [
      "Total 28 year olds: 57\n",
      "Total white count on Jan 1: 856\n",
      "Percent black inmates: 0.0\n"
     ]
    }
   ],
   "source": [
    "import csv\n",
    "file = open('jail.csv', newline='')\n",
    "reader = csv.DictReader(file)\n",
    "totBlack = 0\n",
    "totWhite = 0\n",
    "tot28YearOlds = 0\n",
    "\n",
    "for row in reader:\n",
    "    if row['date'] == '2018-01-01':\n",
    "        if int(row['agecurr']) == 19:\n",
    "            tot28YearOlds = tot28YearOlds + 1\n",
    "        elif row['race'] == 'W':\n",
    "            totWhite = totWhite + 1\n",
    "\n",
    "file.close()\n",
    "print(\"Total 28 year olds: \" + str(tot28YearOlds))\n",
    "print(\"Total white count on Jan 1: \" + str(totWhite))\n",
    "percBlack = totBlack / (totBlack + totWhite)\n",
    "print(\"Percent black inmates: \" + str(percBlack))\n",
    "    "
   ]
  }
 ],
 "metadata": {
  "kernelspec": {
   "display_name": "Python 3",
   "language": "python",
   "name": "python3"
  },
  "language_info": {
   "codemirror_mode": {
    "name": "ipython",
    "version": 3
   },
   "file_extension": ".py",
   "mimetype": "text/x-python",
   "name": "python",
   "nbconvert_exporter": "python",
   "pygments_lexer": "ipython3",
   "version": "3.8.3"
  }
 },
 "nbformat": 4,
 "nbformat_minor": 2
}
